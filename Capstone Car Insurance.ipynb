{
 "cells": [
  {
   "cell_type": "markdown",
   "metadata": {},
   "source": [
    "## TITLE: Car Insurance Claims Prediction"
   ]
  },
  {
   "cell_type": "markdown",
   "metadata": {},
   "source": [
    "### Problem Statement \n",
    "The insurance claim is a basic problem in insurance companies. Insurance insurers always have a challenge to the growing of insurance claim loss. Because there is the occurrence of claim fraud and the volume of claim data increases in the insurance companies. As a result, it is difficult to classify the insured claim status during the claim review process. Therefore, the aims of the study was to build a machine learning model that classifies and make insurance claim status prediction in machine learning approach.\n",
    "\n",
    "\n",
    "### Aim\n",
    "To build a solution that should be able to predict if a Car Insurance Claim was made or not according to the provided dataset.\n",
    "\n",
    "\n",
    "### Approach\n",
    "The classical machine learning tasks like Data Exploration, Data Cleaning, Feature Engineering, Model Building and Model Testing. We will try out different machine learning algorithms that’s best fit for the above case.\n",
    "\n",
    "\n",
    "### Content\n",
    "The columns are resembling practical world features.\n",
    "The outcome column indicates 1 if a customer has claimed his/her loan else 0.\n",
    "The data has 19 features from there 18 of them are corresponding logs which were taken by the company.\n",
    "\n",
    "\n",
    "\n",
    "### Features\n",
    "Input/Features\n",
    "1. ID\n",
    "2. AGE\n",
    "3. GENDER\n",
    "4. RACE\n",
    "5. DRIVING_EXPERIENCE\n",
    "6. EDUCATION\n",
    "7. INCOME\n",
    "8. CREDIT_SCORE\n",
    "9. VEHICLE_OWNERSHIP\n",
    "10. VEHICLE_YEAR\n",
    "11. MARRIED\n",
    "12. CHILDREN\n",
    "13. POSTAL_CODE\n",
    "14. ANNUAL_MILEAGE\n",
    "15. VEHICLE_TYPE\n",
    "16. SPEEDING_VIOLATIONS\n",
    "17. DUIS\n",
    "18. PAST_ACCIDENTS\n",
    "\n",
    "Output/Labels\n",
    "\n",
    "19. OUTCOME\n",
    "\n",
    "### Procedure\n",
    "1. Importing and checking the dataset\n",
    "\n",
    "2. EDA\n",
    "\n",
    "3. Feature Engineering\n",
    "\n",
    "4. Preprocessing\n",
    "\n",
    "5. Label Encoding \n",
    "\n",
    "6. One Hot Encoding \n",
    "\n",
    "7. Train Test Split\n",
    "\n",
    "8. Model Building\n",
    "\n",
    "9. Evaluation\n",
    "\n",
    "10. Conclusion"
   ]
  },
  {
   "cell_type": "markdown",
   "metadata": {},
   "source": [
    "### Importing required Libraries"
   ]
  },
  {
   "cell_type": "code",
   "execution_count": 1,
   "metadata": {},
   "outputs": [],
   "source": [
    "import pandas as pd\n",
    "import numpy as np\n",
    "import matplotlib.pyplot as plt\n",
    "import seaborn as sns\n",
    "%matplotlib inline\n",
    "import datetime\n",
    "from scipy import stats\n",
    "from scipy.stats import skew\n",
    "from scipy.stats import mode\n",
    "from scipy.optimize import minimize\n",
    "from sklearn.preprocessing import StandardScaler\n",
    "from sklearn.model_selection import train_test_split, cross_val_score\n",
    "from sklearn.metrics import accuracy_score\n",
    "from sklearn.metrics import confusion_matrix, classification_report\n",
    "import sklearn.metrics as metrics\n",
    "pd.options.display.max_columns = None"
   ]
  },
  {
   "cell_type": "code",
   "execution_count": 2,
   "metadata": {},
   "outputs": [],
   "source": [
    "# Since the data is in excel file we use pandas read_csv to load the data \n",
    "df = pd.read_csv('C:/Users/Usama Shaikh/Downloads/Capstone Car Insurance/Car_Insurance_Claim.csv')"
   ]
  },
  {
   "cell_type": "code",
   "execution_count": 3,
   "metadata": {},
   "outputs": [
    {
     "data": {
      "text/html": [
       "<div>\n",
       "<style scoped>\n",
       "    .dataframe tbody tr th:only-of-type {\n",
       "        vertical-align: middle;\n",
       "    }\n",
       "\n",
       "    .dataframe tbody tr th {\n",
       "        vertical-align: top;\n",
       "    }\n",
       "\n",
       "    .dataframe thead th {\n",
       "        text-align: right;\n",
       "    }\n",
       "</style>\n",
       "<table border=\"1\" class=\"dataframe\">\n",
       "  <thead>\n",
       "    <tr style=\"text-align: right;\">\n",
       "      <th></th>\n",
       "      <th>ID</th>\n",
       "      <th>AGE</th>\n",
       "      <th>GENDER</th>\n",
       "      <th>RACE</th>\n",
       "      <th>DRIVING_EXPERIENCE</th>\n",
       "      <th>EDUCATION</th>\n",
       "      <th>INCOME</th>\n",
       "      <th>CREDIT_SCORE</th>\n",
       "      <th>VEHICLE_OWNERSHIP</th>\n",
       "      <th>VEHICLE_YEAR</th>\n",
       "      <th>MARRIED</th>\n",
       "      <th>CHILDREN</th>\n",
       "      <th>POSTAL_CODE</th>\n",
       "      <th>ANNUAL_MILEAGE</th>\n",
       "      <th>VEHICLE_TYPE</th>\n",
       "      <th>SPEEDING_VIOLATIONS</th>\n",
       "      <th>DUIS</th>\n",
       "      <th>PAST_ACCIDENTS</th>\n",
       "      <th>OUTCOME</th>\n",
       "    </tr>\n",
       "  </thead>\n",
       "  <tbody>\n",
       "    <tr>\n",
       "      <th>0</th>\n",
       "      <td>569520</td>\n",
       "      <td>65+</td>\n",
       "      <td>female</td>\n",
       "      <td>majority</td>\n",
       "      <td>0-9y</td>\n",
       "      <td>high school</td>\n",
       "      <td>upper class</td>\n",
       "      <td>0.629027</td>\n",
       "      <td>1.0</td>\n",
       "      <td>after 2015</td>\n",
       "      <td>0.0</td>\n",
       "      <td>1.0</td>\n",
       "      <td>10238</td>\n",
       "      <td>12000.0</td>\n",
       "      <td>sedan</td>\n",
       "      <td>0</td>\n",
       "      <td>0</td>\n",
       "      <td>0</td>\n",
       "      <td>0.0</td>\n",
       "    </tr>\n",
       "    <tr>\n",
       "      <th>1</th>\n",
       "      <td>750365</td>\n",
       "      <td>16-25</td>\n",
       "      <td>male</td>\n",
       "      <td>majority</td>\n",
       "      <td>0-9y</td>\n",
       "      <td>none</td>\n",
       "      <td>poverty</td>\n",
       "      <td>0.357757</td>\n",
       "      <td>0.0</td>\n",
       "      <td>before 2015</td>\n",
       "      <td>0.0</td>\n",
       "      <td>0.0</td>\n",
       "      <td>10238</td>\n",
       "      <td>16000.0</td>\n",
       "      <td>sedan</td>\n",
       "      <td>0</td>\n",
       "      <td>0</td>\n",
       "      <td>0</td>\n",
       "      <td>1.0</td>\n",
       "    </tr>\n",
       "    <tr>\n",
       "      <th>2</th>\n",
       "      <td>199901</td>\n",
       "      <td>16-25</td>\n",
       "      <td>female</td>\n",
       "      <td>majority</td>\n",
       "      <td>0-9y</td>\n",
       "      <td>high school</td>\n",
       "      <td>working class</td>\n",
       "      <td>0.493146</td>\n",
       "      <td>1.0</td>\n",
       "      <td>before 2015</td>\n",
       "      <td>0.0</td>\n",
       "      <td>0.0</td>\n",
       "      <td>10238</td>\n",
       "      <td>11000.0</td>\n",
       "      <td>sedan</td>\n",
       "      <td>0</td>\n",
       "      <td>0</td>\n",
       "      <td>0</td>\n",
       "      <td>0.0</td>\n",
       "    </tr>\n",
       "    <tr>\n",
       "      <th>3</th>\n",
       "      <td>478866</td>\n",
       "      <td>16-25</td>\n",
       "      <td>male</td>\n",
       "      <td>majority</td>\n",
       "      <td>0-9y</td>\n",
       "      <td>university</td>\n",
       "      <td>working class</td>\n",
       "      <td>0.206013</td>\n",
       "      <td>1.0</td>\n",
       "      <td>before 2015</td>\n",
       "      <td>0.0</td>\n",
       "      <td>1.0</td>\n",
       "      <td>32765</td>\n",
       "      <td>11000.0</td>\n",
       "      <td>sedan</td>\n",
       "      <td>0</td>\n",
       "      <td>0</td>\n",
       "      <td>0</td>\n",
       "      <td>0.0</td>\n",
       "    </tr>\n",
       "    <tr>\n",
       "      <th>4</th>\n",
       "      <td>731664</td>\n",
       "      <td>26-39</td>\n",
       "      <td>male</td>\n",
       "      <td>majority</td>\n",
       "      <td>10-19y</td>\n",
       "      <td>none</td>\n",
       "      <td>working class</td>\n",
       "      <td>0.388366</td>\n",
       "      <td>1.0</td>\n",
       "      <td>before 2015</td>\n",
       "      <td>0.0</td>\n",
       "      <td>0.0</td>\n",
       "      <td>32765</td>\n",
       "      <td>12000.0</td>\n",
       "      <td>sedan</td>\n",
       "      <td>2</td>\n",
       "      <td>0</td>\n",
       "      <td>1</td>\n",
       "      <td>1.0</td>\n",
       "    </tr>\n",
       "    <tr>\n",
       "      <th>...</th>\n",
       "      <td>...</td>\n",
       "      <td>...</td>\n",
       "      <td>...</td>\n",
       "      <td>...</td>\n",
       "      <td>...</td>\n",
       "      <td>...</td>\n",
       "      <td>...</td>\n",
       "      <td>...</td>\n",
       "      <td>...</td>\n",
       "      <td>...</td>\n",
       "      <td>...</td>\n",
       "      <td>...</td>\n",
       "      <td>...</td>\n",
       "      <td>...</td>\n",
       "      <td>...</td>\n",
       "      <td>...</td>\n",
       "      <td>...</td>\n",
       "      <td>...</td>\n",
       "      <td>...</td>\n",
       "    </tr>\n",
       "    <tr>\n",
       "      <th>9995</th>\n",
       "      <td>323164</td>\n",
       "      <td>26-39</td>\n",
       "      <td>female</td>\n",
       "      <td>majority</td>\n",
       "      <td>10-19y</td>\n",
       "      <td>university</td>\n",
       "      <td>upper class</td>\n",
       "      <td>0.582787</td>\n",
       "      <td>1.0</td>\n",
       "      <td>before 2015</td>\n",
       "      <td>0.0</td>\n",
       "      <td>0.0</td>\n",
       "      <td>10238</td>\n",
       "      <td>16000.0</td>\n",
       "      <td>sedan</td>\n",
       "      <td>0</td>\n",
       "      <td>0</td>\n",
       "      <td>1</td>\n",
       "      <td>0.0</td>\n",
       "    </tr>\n",
       "    <tr>\n",
       "      <th>9996</th>\n",
       "      <td>910346</td>\n",
       "      <td>26-39</td>\n",
       "      <td>female</td>\n",
       "      <td>majority</td>\n",
       "      <td>10-19y</td>\n",
       "      <td>none</td>\n",
       "      <td>middle class</td>\n",
       "      <td>0.522231</td>\n",
       "      <td>1.0</td>\n",
       "      <td>after 2015</td>\n",
       "      <td>0.0</td>\n",
       "      <td>1.0</td>\n",
       "      <td>32765</td>\n",
       "      <td>NaN</td>\n",
       "      <td>sedan</td>\n",
       "      <td>1</td>\n",
       "      <td>0</td>\n",
       "      <td>0</td>\n",
       "      <td>0.0</td>\n",
       "    </tr>\n",
       "    <tr>\n",
       "      <th>9997</th>\n",
       "      <td>468409</td>\n",
       "      <td>26-39</td>\n",
       "      <td>male</td>\n",
       "      <td>majority</td>\n",
       "      <td>0-9y</td>\n",
       "      <td>high school</td>\n",
       "      <td>middle class</td>\n",
       "      <td>0.470940</td>\n",
       "      <td>1.0</td>\n",
       "      <td>before 2015</td>\n",
       "      <td>0.0</td>\n",
       "      <td>1.0</td>\n",
       "      <td>10238</td>\n",
       "      <td>14000.0</td>\n",
       "      <td>sedan</td>\n",
       "      <td>0</td>\n",
       "      <td>0</td>\n",
       "      <td>0</td>\n",
       "      <td>0.0</td>\n",
       "    </tr>\n",
       "    <tr>\n",
       "      <th>9998</th>\n",
       "      <td>903459</td>\n",
       "      <td>26-39</td>\n",
       "      <td>female</td>\n",
       "      <td>majority</td>\n",
       "      <td>10-19y</td>\n",
       "      <td>high school</td>\n",
       "      <td>poverty</td>\n",
       "      <td>0.364185</td>\n",
       "      <td>0.0</td>\n",
       "      <td>before 2015</td>\n",
       "      <td>0.0</td>\n",
       "      <td>1.0</td>\n",
       "      <td>10238</td>\n",
       "      <td>13000.0</td>\n",
       "      <td>sedan</td>\n",
       "      <td>2</td>\n",
       "      <td>0</td>\n",
       "      <td>1</td>\n",
       "      <td>1.0</td>\n",
       "    </tr>\n",
       "    <tr>\n",
       "      <th>9999</th>\n",
       "      <td>442696</td>\n",
       "      <td>26-39</td>\n",
       "      <td>female</td>\n",
       "      <td>majority</td>\n",
       "      <td>0-9y</td>\n",
       "      <td>none</td>\n",
       "      <td>working class</td>\n",
       "      <td>0.435225</td>\n",
       "      <td>1.0</td>\n",
       "      <td>before 2015</td>\n",
       "      <td>1.0</td>\n",
       "      <td>1.0</td>\n",
       "      <td>10238</td>\n",
       "      <td>13000.0</td>\n",
       "      <td>sedan</td>\n",
       "      <td>0</td>\n",
       "      <td>0</td>\n",
       "      <td>0</td>\n",
       "      <td>0.0</td>\n",
       "    </tr>\n",
       "  </tbody>\n",
       "</table>\n",
       "<p>10000 rows × 19 columns</p>\n",
       "</div>"
      ],
      "text/plain": [
       "          ID    AGE  GENDER      RACE DRIVING_EXPERIENCE    EDUCATION  \\\n",
       "0     569520    65+  female  majority               0-9y  high school   \n",
       "1     750365  16-25    male  majority               0-9y         none   \n",
       "2     199901  16-25  female  majority               0-9y  high school   \n",
       "3     478866  16-25    male  majority               0-9y   university   \n",
       "4     731664  26-39    male  majority             10-19y         none   \n",
       "...      ...    ...     ...       ...                ...          ...   \n",
       "9995  323164  26-39  female  majority             10-19y   university   \n",
       "9996  910346  26-39  female  majority             10-19y         none   \n",
       "9997  468409  26-39    male  majority               0-9y  high school   \n",
       "9998  903459  26-39  female  majority             10-19y  high school   \n",
       "9999  442696  26-39  female  majority               0-9y         none   \n",
       "\n",
       "             INCOME  CREDIT_SCORE  VEHICLE_OWNERSHIP VEHICLE_YEAR  MARRIED  \\\n",
       "0       upper class      0.629027                1.0   after 2015      0.0   \n",
       "1           poverty      0.357757                0.0  before 2015      0.0   \n",
       "2     working class      0.493146                1.0  before 2015      0.0   \n",
       "3     working class      0.206013                1.0  before 2015      0.0   \n",
       "4     working class      0.388366                1.0  before 2015      0.0   \n",
       "...             ...           ...                ...          ...      ...   \n",
       "9995    upper class      0.582787                1.0  before 2015      0.0   \n",
       "9996   middle class      0.522231                1.0   after 2015      0.0   \n",
       "9997   middle class      0.470940                1.0  before 2015      0.0   \n",
       "9998        poverty      0.364185                0.0  before 2015      0.0   \n",
       "9999  working class      0.435225                1.0  before 2015      1.0   \n",
       "\n",
       "      CHILDREN  POSTAL_CODE  ANNUAL_MILEAGE VEHICLE_TYPE  SPEEDING_VIOLATIONS  \\\n",
       "0          1.0        10238         12000.0        sedan                    0   \n",
       "1          0.0        10238         16000.0        sedan                    0   \n",
       "2          0.0        10238         11000.0        sedan                    0   \n",
       "3          1.0        32765         11000.0        sedan                    0   \n",
       "4          0.0        32765         12000.0        sedan                    2   \n",
       "...        ...          ...             ...          ...                  ...   \n",
       "9995       0.0        10238         16000.0        sedan                    0   \n",
       "9996       1.0        32765             NaN        sedan                    1   \n",
       "9997       1.0        10238         14000.0        sedan                    0   \n",
       "9998       1.0        10238         13000.0        sedan                    2   \n",
       "9999       1.0        10238         13000.0        sedan                    0   \n",
       "\n",
       "      DUIS  PAST_ACCIDENTS  OUTCOME  \n",
       "0        0               0      0.0  \n",
       "1        0               0      1.0  \n",
       "2        0               0      0.0  \n",
       "3        0               0      0.0  \n",
       "4        0               1      1.0  \n",
       "...    ...             ...      ...  \n",
       "9995     0               1      0.0  \n",
       "9996     0               0      0.0  \n",
       "9997     0               0      0.0  \n",
       "9998     0               1      1.0  \n",
       "9999     0               0      0.0  \n",
       "\n",
       "[10000 rows x 19 columns]"
      ]
     },
     "execution_count": 3,
     "metadata": {},
     "output_type": "execute_result"
    }
   ],
   "source": [
    "df"
   ]
  },
  {
   "cell_type": "code",
   "execution_count": 4,
   "metadata": {},
   "outputs": [
    {
     "data": {
      "text/html": [
       "<div>\n",
       "<style scoped>\n",
       "    .dataframe tbody tr th:only-of-type {\n",
       "        vertical-align: middle;\n",
       "    }\n",
       "\n",
       "    .dataframe tbody tr th {\n",
       "        vertical-align: top;\n",
       "    }\n",
       "\n",
       "    .dataframe thead th {\n",
       "        text-align: right;\n",
       "    }\n",
       "</style>\n",
       "<table border=\"1\" class=\"dataframe\">\n",
       "  <thead>\n",
       "    <tr style=\"text-align: right;\">\n",
       "      <th></th>\n",
       "      <th>ID</th>\n",
       "      <th>AGE</th>\n",
       "      <th>GENDER</th>\n",
       "      <th>RACE</th>\n",
       "      <th>DRIVING_EXPERIENCE</th>\n",
       "      <th>EDUCATION</th>\n",
       "      <th>INCOME</th>\n",
       "      <th>CREDIT_SCORE</th>\n",
       "      <th>VEHICLE_OWNERSHIP</th>\n",
       "      <th>VEHICLE_YEAR</th>\n",
       "      <th>MARRIED</th>\n",
       "      <th>CHILDREN</th>\n",
       "      <th>POSTAL_CODE</th>\n",
       "      <th>ANNUAL_MILEAGE</th>\n",
       "      <th>VEHICLE_TYPE</th>\n",
       "      <th>SPEEDING_VIOLATIONS</th>\n",
       "      <th>DUIS</th>\n",
       "      <th>PAST_ACCIDENTS</th>\n",
       "      <th>OUTCOME</th>\n",
       "    </tr>\n",
       "  </thead>\n",
       "  <tbody>\n",
       "    <tr>\n",
       "      <th>0</th>\n",
       "      <td>569520</td>\n",
       "      <td>65+</td>\n",
       "      <td>female</td>\n",
       "      <td>majority</td>\n",
       "      <td>0-9y</td>\n",
       "      <td>high school</td>\n",
       "      <td>upper class</td>\n",
       "      <td>0.629027</td>\n",
       "      <td>1.0</td>\n",
       "      <td>after 2015</td>\n",
       "      <td>0.0</td>\n",
       "      <td>1.0</td>\n",
       "      <td>10238</td>\n",
       "      <td>12000.0</td>\n",
       "      <td>sedan</td>\n",
       "      <td>0</td>\n",
       "      <td>0</td>\n",
       "      <td>0</td>\n",
       "      <td>0.0</td>\n",
       "    </tr>\n",
       "    <tr>\n",
       "      <th>1</th>\n",
       "      <td>750365</td>\n",
       "      <td>16-25</td>\n",
       "      <td>male</td>\n",
       "      <td>majority</td>\n",
       "      <td>0-9y</td>\n",
       "      <td>none</td>\n",
       "      <td>poverty</td>\n",
       "      <td>0.357757</td>\n",
       "      <td>0.0</td>\n",
       "      <td>before 2015</td>\n",
       "      <td>0.0</td>\n",
       "      <td>0.0</td>\n",
       "      <td>10238</td>\n",
       "      <td>16000.0</td>\n",
       "      <td>sedan</td>\n",
       "      <td>0</td>\n",
       "      <td>0</td>\n",
       "      <td>0</td>\n",
       "      <td>1.0</td>\n",
       "    </tr>\n",
       "    <tr>\n",
       "      <th>2</th>\n",
       "      <td>199901</td>\n",
       "      <td>16-25</td>\n",
       "      <td>female</td>\n",
       "      <td>majority</td>\n",
       "      <td>0-9y</td>\n",
       "      <td>high school</td>\n",
       "      <td>working class</td>\n",
       "      <td>0.493146</td>\n",
       "      <td>1.0</td>\n",
       "      <td>before 2015</td>\n",
       "      <td>0.0</td>\n",
       "      <td>0.0</td>\n",
       "      <td>10238</td>\n",
       "      <td>11000.0</td>\n",
       "      <td>sedan</td>\n",
       "      <td>0</td>\n",
       "      <td>0</td>\n",
       "      <td>0</td>\n",
       "      <td>0.0</td>\n",
       "    </tr>\n",
       "    <tr>\n",
       "      <th>3</th>\n",
       "      <td>478866</td>\n",
       "      <td>16-25</td>\n",
       "      <td>male</td>\n",
       "      <td>majority</td>\n",
       "      <td>0-9y</td>\n",
       "      <td>university</td>\n",
       "      <td>working class</td>\n",
       "      <td>0.206013</td>\n",
       "      <td>1.0</td>\n",
       "      <td>before 2015</td>\n",
       "      <td>0.0</td>\n",
       "      <td>1.0</td>\n",
       "      <td>32765</td>\n",
       "      <td>11000.0</td>\n",
       "      <td>sedan</td>\n",
       "      <td>0</td>\n",
       "      <td>0</td>\n",
       "      <td>0</td>\n",
       "      <td>0.0</td>\n",
       "    </tr>\n",
       "    <tr>\n",
       "      <th>4</th>\n",
       "      <td>731664</td>\n",
       "      <td>26-39</td>\n",
       "      <td>male</td>\n",
       "      <td>majority</td>\n",
       "      <td>10-19y</td>\n",
       "      <td>none</td>\n",
       "      <td>working class</td>\n",
       "      <td>0.388366</td>\n",
       "      <td>1.0</td>\n",
       "      <td>before 2015</td>\n",
       "      <td>0.0</td>\n",
       "      <td>0.0</td>\n",
       "      <td>32765</td>\n",
       "      <td>12000.0</td>\n",
       "      <td>sedan</td>\n",
       "      <td>2</td>\n",
       "      <td>0</td>\n",
       "      <td>1</td>\n",
       "      <td>1.0</td>\n",
       "    </tr>\n",
       "  </tbody>\n",
       "</table>\n",
       "</div>"
      ],
      "text/plain": [
       "       ID    AGE  GENDER      RACE DRIVING_EXPERIENCE    EDUCATION  \\\n",
       "0  569520    65+  female  majority               0-9y  high school   \n",
       "1  750365  16-25    male  majority               0-9y         none   \n",
       "2  199901  16-25  female  majority               0-9y  high school   \n",
       "3  478866  16-25    male  majority               0-9y   university   \n",
       "4  731664  26-39    male  majority             10-19y         none   \n",
       "\n",
       "          INCOME  CREDIT_SCORE  VEHICLE_OWNERSHIP VEHICLE_YEAR  MARRIED  \\\n",
       "0    upper class      0.629027                1.0   after 2015      0.0   \n",
       "1        poverty      0.357757                0.0  before 2015      0.0   \n",
       "2  working class      0.493146                1.0  before 2015      0.0   \n",
       "3  working class      0.206013                1.0  before 2015      0.0   \n",
       "4  working class      0.388366                1.0  before 2015      0.0   \n",
       "\n",
       "   CHILDREN  POSTAL_CODE  ANNUAL_MILEAGE VEHICLE_TYPE  SPEEDING_VIOLATIONS  \\\n",
       "0       1.0        10238         12000.0        sedan                    0   \n",
       "1       0.0        10238         16000.0        sedan                    0   \n",
       "2       0.0        10238         11000.0        sedan                    0   \n",
       "3       1.0        32765         11000.0        sedan                    0   \n",
       "4       0.0        32765         12000.0        sedan                    2   \n",
       "\n",
       "   DUIS  PAST_ACCIDENTS  OUTCOME  \n",
       "0     0               0      0.0  \n",
       "1     0               0      1.0  \n",
       "2     0               0      0.0  \n",
       "3     0               0      0.0  \n",
       "4     0               1      1.0  "
      ]
     },
     "execution_count": 4,
     "metadata": {},
     "output_type": "execute_result"
    }
   ],
   "source": [
    "# Vizualizing first five rows of data\n",
    "df.head()"
   ]
  },
  {
   "cell_type": "code",
   "execution_count": 5,
   "metadata": {},
   "outputs": [
    {
     "data": {
      "text/html": [
       "<div>\n",
       "<style scoped>\n",
       "    .dataframe tbody tr th:only-of-type {\n",
       "        vertical-align: middle;\n",
       "    }\n",
       "\n",
       "    .dataframe tbody tr th {\n",
       "        vertical-align: top;\n",
       "    }\n",
       "\n",
       "    .dataframe thead th {\n",
       "        text-align: right;\n",
       "    }\n",
       "</style>\n",
       "<table border=\"1\" class=\"dataframe\">\n",
       "  <thead>\n",
       "    <tr style=\"text-align: right;\">\n",
       "      <th></th>\n",
       "      <th>ID</th>\n",
       "      <th>AGE</th>\n",
       "      <th>GENDER</th>\n",
       "      <th>RACE</th>\n",
       "      <th>DRIVING_EXPERIENCE</th>\n",
       "      <th>EDUCATION</th>\n",
       "      <th>INCOME</th>\n",
       "      <th>CREDIT_SCORE</th>\n",
       "      <th>VEHICLE_OWNERSHIP</th>\n",
       "      <th>VEHICLE_YEAR</th>\n",
       "      <th>MARRIED</th>\n",
       "      <th>CHILDREN</th>\n",
       "      <th>POSTAL_CODE</th>\n",
       "      <th>ANNUAL_MILEAGE</th>\n",
       "      <th>VEHICLE_TYPE</th>\n",
       "      <th>SPEEDING_VIOLATIONS</th>\n",
       "      <th>DUIS</th>\n",
       "      <th>PAST_ACCIDENTS</th>\n",
       "      <th>OUTCOME</th>\n",
       "    </tr>\n",
       "  </thead>\n",
       "  <tbody>\n",
       "    <tr>\n",
       "      <th>9995</th>\n",
       "      <td>323164</td>\n",
       "      <td>26-39</td>\n",
       "      <td>female</td>\n",
       "      <td>majority</td>\n",
       "      <td>10-19y</td>\n",
       "      <td>university</td>\n",
       "      <td>upper class</td>\n",
       "      <td>0.582787</td>\n",
       "      <td>1.0</td>\n",
       "      <td>before 2015</td>\n",
       "      <td>0.0</td>\n",
       "      <td>0.0</td>\n",
       "      <td>10238</td>\n",
       "      <td>16000.0</td>\n",
       "      <td>sedan</td>\n",
       "      <td>0</td>\n",
       "      <td>0</td>\n",
       "      <td>1</td>\n",
       "      <td>0.0</td>\n",
       "    </tr>\n",
       "    <tr>\n",
       "      <th>9996</th>\n",
       "      <td>910346</td>\n",
       "      <td>26-39</td>\n",
       "      <td>female</td>\n",
       "      <td>majority</td>\n",
       "      <td>10-19y</td>\n",
       "      <td>none</td>\n",
       "      <td>middle class</td>\n",
       "      <td>0.522231</td>\n",
       "      <td>1.0</td>\n",
       "      <td>after 2015</td>\n",
       "      <td>0.0</td>\n",
       "      <td>1.0</td>\n",
       "      <td>32765</td>\n",
       "      <td>NaN</td>\n",
       "      <td>sedan</td>\n",
       "      <td>1</td>\n",
       "      <td>0</td>\n",
       "      <td>0</td>\n",
       "      <td>0.0</td>\n",
       "    </tr>\n",
       "    <tr>\n",
       "      <th>9997</th>\n",
       "      <td>468409</td>\n",
       "      <td>26-39</td>\n",
       "      <td>male</td>\n",
       "      <td>majority</td>\n",
       "      <td>0-9y</td>\n",
       "      <td>high school</td>\n",
       "      <td>middle class</td>\n",
       "      <td>0.470940</td>\n",
       "      <td>1.0</td>\n",
       "      <td>before 2015</td>\n",
       "      <td>0.0</td>\n",
       "      <td>1.0</td>\n",
       "      <td>10238</td>\n",
       "      <td>14000.0</td>\n",
       "      <td>sedan</td>\n",
       "      <td>0</td>\n",
       "      <td>0</td>\n",
       "      <td>0</td>\n",
       "      <td>0.0</td>\n",
       "    </tr>\n",
       "    <tr>\n",
       "      <th>9998</th>\n",
       "      <td>903459</td>\n",
       "      <td>26-39</td>\n",
       "      <td>female</td>\n",
       "      <td>majority</td>\n",
       "      <td>10-19y</td>\n",
       "      <td>high school</td>\n",
       "      <td>poverty</td>\n",
       "      <td>0.364185</td>\n",
       "      <td>0.0</td>\n",
       "      <td>before 2015</td>\n",
       "      <td>0.0</td>\n",
       "      <td>1.0</td>\n",
       "      <td>10238</td>\n",
       "      <td>13000.0</td>\n",
       "      <td>sedan</td>\n",
       "      <td>2</td>\n",
       "      <td>0</td>\n",
       "      <td>1</td>\n",
       "      <td>1.0</td>\n",
       "    </tr>\n",
       "    <tr>\n",
       "      <th>9999</th>\n",
       "      <td>442696</td>\n",
       "      <td>26-39</td>\n",
       "      <td>female</td>\n",
       "      <td>majority</td>\n",
       "      <td>0-9y</td>\n",
       "      <td>none</td>\n",
       "      <td>working class</td>\n",
       "      <td>0.435225</td>\n",
       "      <td>1.0</td>\n",
       "      <td>before 2015</td>\n",
       "      <td>1.0</td>\n",
       "      <td>1.0</td>\n",
       "      <td>10238</td>\n",
       "      <td>13000.0</td>\n",
       "      <td>sedan</td>\n",
       "      <td>0</td>\n",
       "      <td>0</td>\n",
       "      <td>0</td>\n",
       "      <td>0.0</td>\n",
       "    </tr>\n",
       "  </tbody>\n",
       "</table>\n",
       "</div>"
      ],
      "text/plain": [
       "          ID    AGE  GENDER      RACE DRIVING_EXPERIENCE    EDUCATION  \\\n",
       "9995  323164  26-39  female  majority             10-19y   university   \n",
       "9996  910346  26-39  female  majority             10-19y         none   \n",
       "9997  468409  26-39    male  majority               0-9y  high school   \n",
       "9998  903459  26-39  female  majority             10-19y  high school   \n",
       "9999  442696  26-39  female  majority               0-9y         none   \n",
       "\n",
       "             INCOME  CREDIT_SCORE  VEHICLE_OWNERSHIP VEHICLE_YEAR  MARRIED  \\\n",
       "9995    upper class      0.582787                1.0  before 2015      0.0   \n",
       "9996   middle class      0.522231                1.0   after 2015      0.0   \n",
       "9997   middle class      0.470940                1.0  before 2015      0.0   \n",
       "9998        poverty      0.364185                0.0  before 2015      0.0   \n",
       "9999  working class      0.435225                1.0  before 2015      1.0   \n",
       "\n",
       "      CHILDREN  POSTAL_CODE  ANNUAL_MILEAGE VEHICLE_TYPE  SPEEDING_VIOLATIONS  \\\n",
       "9995       0.0        10238         16000.0        sedan                    0   \n",
       "9996       1.0        32765             NaN        sedan                    1   \n",
       "9997       1.0        10238         14000.0        sedan                    0   \n",
       "9998       1.0        10238         13000.0        sedan                    2   \n",
       "9999       1.0        10238         13000.0        sedan                    0   \n",
       "\n",
       "      DUIS  PAST_ACCIDENTS  OUTCOME  \n",
       "9995     0               1      0.0  \n",
       "9996     0               0      0.0  \n",
       "9997     0               0      0.0  \n",
       "9998     0               1      1.0  \n",
       "9999     0               0      0.0  "
      ]
     },
     "execution_count": 5,
     "metadata": {},
     "output_type": "execute_result"
    }
   ],
   "source": [
    "# Vizualizing last five rows of data\n",
    "df.tail()"
   ]
  },
  {
   "cell_type": "markdown",
   "metadata": {},
   "source": [
    "### EDA(Exploratory Data Analysis)"
   ]
  },
  {
   "cell_type": "code",
   "execution_count": 6,
   "metadata": {},
   "outputs": [
    {
     "data": {
      "text/plain": [
       "(10000, 19)"
      ]
     },
     "execution_count": 6,
     "metadata": {},
     "output_type": "execute_result"
    }
   ],
   "source": [
    "# Checking the Dimensions of dataset\n",
    "df.shape"
   ]
  },
  {
   "cell_type": "code",
   "execution_count": 7,
   "metadata": {},
   "outputs": [
    {
     "name": "stdout",
     "output_type": "stream",
     "text": [
      "<class 'pandas.core.frame.DataFrame'>\n",
      "RangeIndex: 10000 entries, 0 to 9999\n",
      "Data columns (total 19 columns):\n",
      " #   Column               Non-Null Count  Dtype  \n",
      "---  ------               --------------  -----  \n",
      " 0   ID                   10000 non-null  int64  \n",
      " 1   AGE                  10000 non-null  object \n",
      " 2   GENDER               10000 non-null  object \n",
      " 3   RACE                 10000 non-null  object \n",
      " 4   DRIVING_EXPERIENCE   10000 non-null  object \n",
      " 5   EDUCATION            10000 non-null  object \n",
      " 6   INCOME               10000 non-null  object \n",
      " 7   CREDIT_SCORE         9018 non-null   float64\n",
      " 8   VEHICLE_OWNERSHIP    10000 non-null  float64\n",
      " 9   VEHICLE_YEAR         10000 non-null  object \n",
      " 10  MARRIED              10000 non-null  float64\n",
      " 11  CHILDREN             10000 non-null  float64\n",
      " 12  POSTAL_CODE          10000 non-null  int64  \n",
      " 13  ANNUAL_MILEAGE       9043 non-null   float64\n",
      " 14  VEHICLE_TYPE         10000 non-null  object \n",
      " 15  SPEEDING_VIOLATIONS  10000 non-null  int64  \n",
      " 16  DUIS                 10000 non-null  int64  \n",
      " 17  PAST_ACCIDENTS       10000 non-null  int64  \n",
      " 18  OUTCOME              10000 non-null  float64\n",
      "dtypes: float64(6), int64(5), object(8)\n",
      "memory usage: 1.4+ MB\n"
     ]
    }
   ],
   "source": [
    "df.info()"
   ]
  },
  {
   "cell_type": "code",
   "execution_count": 8,
   "metadata": {},
   "outputs": [
    {
     "data": {
      "text/html": [
       "<div>\n",
       "<style scoped>\n",
       "    .dataframe tbody tr th:only-of-type {\n",
       "        vertical-align: middle;\n",
       "    }\n",
       "\n",
       "    .dataframe tbody tr th {\n",
       "        vertical-align: top;\n",
       "    }\n",
       "\n",
       "    .dataframe thead th {\n",
       "        text-align: right;\n",
       "    }\n",
       "</style>\n",
       "<table border=\"1\" class=\"dataframe\">\n",
       "  <thead>\n",
       "    <tr style=\"text-align: right;\">\n",
       "      <th></th>\n",
       "      <th>ID</th>\n",
       "      <th>CREDIT_SCORE</th>\n",
       "      <th>VEHICLE_OWNERSHIP</th>\n",
       "      <th>MARRIED</th>\n",
       "      <th>CHILDREN</th>\n",
       "      <th>POSTAL_CODE</th>\n",
       "      <th>ANNUAL_MILEAGE</th>\n",
       "      <th>SPEEDING_VIOLATIONS</th>\n",
       "      <th>DUIS</th>\n",
       "      <th>PAST_ACCIDENTS</th>\n",
       "      <th>OUTCOME</th>\n",
       "    </tr>\n",
       "  </thead>\n",
       "  <tbody>\n",
       "    <tr>\n",
       "      <th>count</th>\n",
       "      <td>10000.000000</td>\n",
       "      <td>9018.000000</td>\n",
       "      <td>10000.000000</td>\n",
       "      <td>10000.000000</td>\n",
       "      <td>10000.000000</td>\n",
       "      <td>10000.000000</td>\n",
       "      <td>9043.000000</td>\n",
       "      <td>10000.000000</td>\n",
       "      <td>10000.00000</td>\n",
       "      <td>10000.000000</td>\n",
       "      <td>10000.000000</td>\n",
       "    </tr>\n",
       "    <tr>\n",
       "      <th>mean</th>\n",
       "      <td>500521.906800</td>\n",
       "      <td>0.515813</td>\n",
       "      <td>0.697000</td>\n",
       "      <td>0.498200</td>\n",
       "      <td>0.688800</td>\n",
       "      <td>19864.548400</td>\n",
       "      <td>11697.003207</td>\n",
       "      <td>1.482900</td>\n",
       "      <td>0.23920</td>\n",
       "      <td>1.056300</td>\n",
       "      <td>0.313300</td>\n",
       "    </tr>\n",
       "    <tr>\n",
       "      <th>std</th>\n",
       "      <td>290030.768758</td>\n",
       "      <td>0.137688</td>\n",
       "      <td>0.459578</td>\n",
       "      <td>0.500022</td>\n",
       "      <td>0.463008</td>\n",
       "      <td>18915.613855</td>\n",
       "      <td>2818.434528</td>\n",
       "      <td>2.241966</td>\n",
       "      <td>0.55499</td>\n",
       "      <td>1.652454</td>\n",
       "      <td>0.463858</td>\n",
       "    </tr>\n",
       "    <tr>\n",
       "      <th>min</th>\n",
       "      <td>101.000000</td>\n",
       "      <td>0.053358</td>\n",
       "      <td>0.000000</td>\n",
       "      <td>0.000000</td>\n",
       "      <td>0.000000</td>\n",
       "      <td>10238.000000</td>\n",
       "      <td>2000.000000</td>\n",
       "      <td>0.000000</td>\n",
       "      <td>0.00000</td>\n",
       "      <td>0.000000</td>\n",
       "      <td>0.000000</td>\n",
       "    </tr>\n",
       "    <tr>\n",
       "      <th>25%</th>\n",
       "      <td>249638.500000</td>\n",
       "      <td>0.417191</td>\n",
       "      <td>0.000000</td>\n",
       "      <td>0.000000</td>\n",
       "      <td>0.000000</td>\n",
       "      <td>10238.000000</td>\n",
       "      <td>10000.000000</td>\n",
       "      <td>0.000000</td>\n",
       "      <td>0.00000</td>\n",
       "      <td>0.000000</td>\n",
       "      <td>0.000000</td>\n",
       "    </tr>\n",
       "    <tr>\n",
       "      <th>50%</th>\n",
       "      <td>501777.000000</td>\n",
       "      <td>0.525033</td>\n",
       "      <td>1.000000</td>\n",
       "      <td>0.000000</td>\n",
       "      <td>1.000000</td>\n",
       "      <td>10238.000000</td>\n",
       "      <td>12000.000000</td>\n",
       "      <td>0.000000</td>\n",
       "      <td>0.00000</td>\n",
       "      <td>0.000000</td>\n",
       "      <td>0.000000</td>\n",
       "    </tr>\n",
       "    <tr>\n",
       "      <th>75%</th>\n",
       "      <td>753974.500000</td>\n",
       "      <td>0.618312</td>\n",
       "      <td>1.000000</td>\n",
       "      <td>1.000000</td>\n",
       "      <td>1.000000</td>\n",
       "      <td>32765.000000</td>\n",
       "      <td>14000.000000</td>\n",
       "      <td>2.000000</td>\n",
       "      <td>0.00000</td>\n",
       "      <td>2.000000</td>\n",
       "      <td>1.000000</td>\n",
       "    </tr>\n",
       "    <tr>\n",
       "      <th>max</th>\n",
       "      <td>999976.000000</td>\n",
       "      <td>0.960819</td>\n",
       "      <td>1.000000</td>\n",
       "      <td>1.000000</td>\n",
       "      <td>1.000000</td>\n",
       "      <td>92101.000000</td>\n",
       "      <td>22000.000000</td>\n",
       "      <td>22.000000</td>\n",
       "      <td>6.00000</td>\n",
       "      <td>15.000000</td>\n",
       "      <td>1.000000</td>\n",
       "    </tr>\n",
       "  </tbody>\n",
       "</table>\n",
       "</div>"
      ],
      "text/plain": [
       "                  ID  CREDIT_SCORE  VEHICLE_OWNERSHIP       MARRIED  \\\n",
       "count   10000.000000   9018.000000       10000.000000  10000.000000   \n",
       "mean   500521.906800      0.515813           0.697000      0.498200   \n",
       "std    290030.768758      0.137688           0.459578      0.500022   \n",
       "min       101.000000      0.053358           0.000000      0.000000   \n",
       "25%    249638.500000      0.417191           0.000000      0.000000   \n",
       "50%    501777.000000      0.525033           1.000000      0.000000   \n",
       "75%    753974.500000      0.618312           1.000000      1.000000   \n",
       "max    999976.000000      0.960819           1.000000      1.000000   \n",
       "\n",
       "           CHILDREN   POSTAL_CODE  ANNUAL_MILEAGE  SPEEDING_VIOLATIONS  \\\n",
       "count  10000.000000  10000.000000     9043.000000         10000.000000   \n",
       "mean       0.688800  19864.548400    11697.003207             1.482900   \n",
       "std        0.463008  18915.613855     2818.434528             2.241966   \n",
       "min        0.000000  10238.000000     2000.000000             0.000000   \n",
       "25%        0.000000  10238.000000    10000.000000             0.000000   \n",
       "50%        1.000000  10238.000000    12000.000000             0.000000   \n",
       "75%        1.000000  32765.000000    14000.000000             2.000000   \n",
       "max        1.000000  92101.000000    22000.000000            22.000000   \n",
       "\n",
       "              DUIS  PAST_ACCIDENTS       OUTCOME  \n",
       "count  10000.00000    10000.000000  10000.000000  \n",
       "mean       0.23920        1.056300      0.313300  \n",
       "std        0.55499        1.652454      0.463858  \n",
       "min        0.00000        0.000000      0.000000  \n",
       "25%        0.00000        0.000000      0.000000  \n",
       "50%        0.00000        0.000000      0.000000  \n",
       "75%        0.00000        2.000000      1.000000  \n",
       "max        6.00000       15.000000      1.000000  "
      ]
     },
     "execution_count": 8,
     "metadata": {},
     "output_type": "execute_result"
    }
   ],
   "source": [
    "# Checking the summary stats of the data\n",
    "df.describe()"
   ]
  },
  {
   "cell_type": "code",
   "execution_count": 9,
   "metadata": {},
   "outputs": [
    {
     "data": {
      "text/html": [
       "<div>\n",
       "<style scoped>\n",
       "    .dataframe tbody tr th:only-of-type {\n",
       "        vertical-align: middle;\n",
       "    }\n",
       "\n",
       "    .dataframe tbody tr th {\n",
       "        vertical-align: top;\n",
       "    }\n",
       "\n",
       "    .dataframe thead th {\n",
       "        text-align: right;\n",
       "    }\n",
       "</style>\n",
       "<table border=\"1\" class=\"dataframe\">\n",
       "  <thead>\n",
       "    <tr style=\"text-align: right;\">\n",
       "      <th></th>\n",
       "      <th>AGE</th>\n",
       "      <th>GENDER</th>\n",
       "      <th>RACE</th>\n",
       "      <th>DRIVING_EXPERIENCE</th>\n",
       "      <th>EDUCATION</th>\n",
       "      <th>INCOME</th>\n",
       "      <th>VEHICLE_YEAR</th>\n",
       "      <th>VEHICLE_TYPE</th>\n",
       "    </tr>\n",
       "  </thead>\n",
       "  <tbody>\n",
       "    <tr>\n",
       "      <th>count</th>\n",
       "      <td>10000</td>\n",
       "      <td>10000</td>\n",
       "      <td>10000</td>\n",
       "      <td>10000</td>\n",
       "      <td>10000</td>\n",
       "      <td>10000</td>\n",
       "      <td>10000</td>\n",
       "      <td>10000</td>\n",
       "    </tr>\n",
       "    <tr>\n",
       "      <th>unique</th>\n",
       "      <td>4</td>\n",
       "      <td>2</td>\n",
       "      <td>2</td>\n",
       "      <td>4</td>\n",
       "      <td>3</td>\n",
       "      <td>4</td>\n",
       "      <td>2</td>\n",
       "      <td>2</td>\n",
       "    </tr>\n",
       "    <tr>\n",
       "      <th>top</th>\n",
       "      <td>26-39</td>\n",
       "      <td>female</td>\n",
       "      <td>majority</td>\n",
       "      <td>0-9y</td>\n",
       "      <td>high school</td>\n",
       "      <td>upper class</td>\n",
       "      <td>before 2015</td>\n",
       "      <td>sedan</td>\n",
       "    </tr>\n",
       "    <tr>\n",
       "      <th>freq</th>\n",
       "      <td>3063</td>\n",
       "      <td>5010</td>\n",
       "      <td>9012</td>\n",
       "      <td>3530</td>\n",
       "      <td>4157</td>\n",
       "      <td>4336</td>\n",
       "      <td>6967</td>\n",
       "      <td>9523</td>\n",
       "    </tr>\n",
       "  </tbody>\n",
       "</table>\n",
       "</div>"
      ],
      "text/plain": [
       "          AGE  GENDER      RACE DRIVING_EXPERIENCE    EDUCATION       INCOME  \\\n",
       "count   10000   10000     10000              10000        10000        10000   \n",
       "unique      4       2         2                  4            3            4   \n",
       "top     26-39  female  majority               0-9y  high school  upper class   \n",
       "freq     3063    5010      9012               3530         4157         4336   \n",
       "\n",
       "       VEHICLE_YEAR VEHICLE_TYPE  \n",
       "count         10000        10000  \n",
       "unique            2            2  \n",
       "top     before 2015        sedan  \n",
       "freq           6967         9523  "
      ]
     },
     "execution_count": 9,
     "metadata": {},
     "output_type": "execute_result"
    }
   ],
   "source": [
    "df.describe(include='object')"
   ]
  },
  {
   "cell_type": "markdown",
   "metadata": {},
   "source": [
    "### Observations:\n",
    "1. There are a total of 10000 rows in the Data.\n",
    "2. AGE column has 4 unique categories.\n",
    "3. Most of the customer are having INCOME of upper class.\n",
    "4. Most of the customer have driving experience of 0-9 years.\n",
    "5. Most of the customers have sedan in Vehicle_Type."
   ]
  },
  {
   "cell_type": "code",
   "execution_count": 10,
   "metadata": {},
   "outputs": [
    {
     "data": {
      "text/plain": [
       "ID                       0\n",
       "AGE                      0\n",
       "GENDER                   0\n",
       "RACE                     0\n",
       "DRIVING_EXPERIENCE       0\n",
       "EDUCATION                0\n",
       "INCOME                   0\n",
       "CREDIT_SCORE           982\n",
       "VEHICLE_OWNERSHIP        0\n",
       "VEHICLE_YEAR             0\n",
       "MARRIED                  0\n",
       "CHILDREN                 0\n",
       "POSTAL_CODE              0\n",
       "ANNUAL_MILEAGE         957\n",
       "VEHICLE_TYPE             0\n",
       "SPEEDING_VIOLATIONS      0\n",
       "DUIS                     0\n",
       "PAST_ACCIDENTS           0\n",
       "OUTCOME                  0\n",
       "dtype: int64"
      ]
     },
     "execution_count": 10,
     "metadata": {},
     "output_type": "execute_result"
    }
   ],
   "source": [
    "#Checking Missing values\n",
    "df.isnull().sum()"
   ]
  },
  {
   "cell_type": "markdown",
   "metadata": {},
   "source": [
    "### Observations:\n",
    "1. There are null values in two columns and both attributes are of numerical type\n",
    "2. There are 982 null values in the CREDIT_SCORE column\n",
    "3. There are 957 null values in the ANNUAL_MILEAGE  column "
   ]
  },
  {
   "cell_type": "markdown",
   "metadata": {},
   "source": [
    " We will replace the nan values with median as median is not affected by outliers."
   ]
  },
  {
   "cell_type": "code",
   "execution_count": 11,
   "metadata": {},
   "outputs": [],
   "source": [
    "#Imputation of Null values\n",
    "df['CREDIT_SCORE'].fillna(df['CREDIT_SCORE'].median(), inplace=True)\n",
    "df['ANNUAL_MILEAGE'].fillna(df['ANNUAL_MILEAGE'].median(), inplace=True)"
   ]
  },
  {
   "cell_type": "code",
   "execution_count": 12,
   "metadata": {},
   "outputs": [
    {
     "data": {
      "text/plain": [
       "ID                     0\n",
       "AGE                    0\n",
       "GENDER                 0\n",
       "RACE                   0\n",
       "DRIVING_EXPERIENCE     0\n",
       "EDUCATION              0\n",
       "INCOME                 0\n",
       "CREDIT_SCORE           0\n",
       "VEHICLE_OWNERSHIP      0\n",
       "VEHICLE_YEAR           0\n",
       "MARRIED                0\n",
       "CHILDREN               0\n",
       "POSTAL_CODE            0\n",
       "ANNUAL_MILEAGE         0\n",
       "VEHICLE_TYPE           0\n",
       "SPEEDING_VIOLATIONS    0\n",
       "DUIS                   0\n",
       "PAST_ACCIDENTS         0\n",
       "OUTCOME                0\n",
       "dtype: int64"
      ]
     },
     "execution_count": 12,
     "metadata": {},
     "output_type": "execute_result"
    }
   ],
   "source": [
    "df.isnull().sum()"
   ]
  },
  {
   "cell_type": "markdown",
   "metadata": {},
   "source": [
    "Now data do not have any null values"
   ]
  },
  {
   "cell_type": "markdown",
   "metadata": {},
   "source": [
    "To simplify our data and save some memory, I'm going to drop the ID column because it doesn't represent any relevant information."
   ]
  },
  {
   "cell_type": "code",
   "execution_count": 13,
   "metadata": {},
   "outputs": [],
   "source": [
    "# Dropping ID column\n",
    "df.drop(['ID'], axis=1, inplace=True)"
   ]
  },
  {
   "cell_type": "code",
   "execution_count": 14,
   "metadata": {},
   "outputs": [
    {
     "data": {
      "text/plain": [
       "Index(['AGE', 'GENDER', 'RACE', 'DRIVING_EXPERIENCE', 'EDUCATION', 'INCOME',\n",
       "       'CREDIT_SCORE', 'VEHICLE_OWNERSHIP', 'VEHICLE_YEAR', 'MARRIED',\n",
       "       'CHILDREN', 'POSTAL_CODE', 'ANNUAL_MILEAGE', 'VEHICLE_TYPE',\n",
       "       'SPEEDING_VIOLATIONS', 'DUIS', 'PAST_ACCIDENTS', 'OUTCOME'],\n",
       "      dtype='object')"
      ]
     },
     "execution_count": 14,
     "metadata": {},
     "output_type": "execute_result"
    }
   ],
   "source": [
    "df.columns"
   ]
  },
  {
   "cell_type": "code",
   "execution_count": 15,
   "metadata": {},
   "outputs": [
    {
     "data": {
      "text/plain": [
       "0.0    6867\n",
       "1.0    3133\n",
       "Name: OUTCOME, dtype: int64"
      ]
     },
     "execution_count": 15,
     "metadata": {},
     "output_type": "execute_result"
    }
   ],
   "source": [
    "df['OUTCOME'].value_counts()"
   ]
  },
  {
   "cell_type": "code",
   "execution_count": 16,
   "metadata": {},
   "outputs": [],
   "source": [
    "df['OUTCOME']= df['OUTCOME'].map(lambda x: 1 if x==1.0 else 0)"
   ]
  },
  {
   "cell_type": "code",
   "execution_count": 17,
   "metadata": {},
   "outputs": [
    {
     "data": {
      "text/plain": [
       "0    6867\n",
       "1    3133\n",
       "Name: OUTCOME, dtype: int64"
      ]
     },
     "execution_count": 17,
     "metadata": {},
     "output_type": "execute_result"
    }
   ],
   "source": [
    "df['OUTCOME'].value_counts()"
   ]
  },
  {
   "cell_type": "code",
   "execution_count": 18,
   "metadata": {},
   "outputs": [],
   "source": [
    "df['OUTCOME'] = df['OUTCOME'].astype('int')"
   ]
  },
  {
   "cell_type": "code",
   "execution_count": 19,
   "metadata": {},
   "outputs": [
    {
     "data": {
      "text/plain": [
       "dtype('int32')"
      ]
     },
     "execution_count": 19,
     "metadata": {},
     "output_type": "execute_result"
    }
   ],
   "source": [
    "df['OUTCOME'].dtype"
   ]
  },
  {
   "cell_type": "code",
   "execution_count": 20,
   "metadata": {},
   "outputs": [
    {
     "data": {
      "text/plain": [
       "<AxesSubplot:title={'center':'Outcome Count'}, xlabel='OUTCOME', ylabel='count'>"
      ]
     },
     "execution_count": 20,
     "metadata": {},
     "output_type": "execute_result"
    },
    {
     "data": {
      "image/png": "[encoded data removed]",
      "text/plain": [
       "<Figure size 504x504 with 1 Axes>"
      ]
     },
     "metadata": {
      "needs_background": "light"
     },
     "output_type": "display_data"
    }
   ],
   "source": [
    "# count plot to check the OUTCOME-distribution\n",
    "plt.figure(figsize=(7,7))\n",
    "plt.title('Outcome Count')\n",
    "sns.countplot(data=df, x ='OUTCOME')"
   ]
  },
  {
   "cell_type": "markdown",
   "metadata": {},
   "source": [
    "### Observations:\n",
    "1. We can see that the outcome/target variable is imbalanced.\n",
    "2. The dataset is skewed towards Class 0."
   ]
  },
  {
   "cell_type": "code",
   "execution_count": 21,
   "metadata": {},
   "outputs": [
    {
     "name": "stdout",
     "output_type": "stream",
     "text": [
      "Number of Numerical features:  10\n",
      "['CREDIT_SCORE' 'VEHICLE_OWNERSHIP' 'MARRIED' 'CHILDREN' 'POSTAL_CODE'\n",
      " 'ANNUAL_MILEAGE' 'SPEEDING_VIOLATIONS' 'DUIS' 'PAST_ACCIDENTS' 'OUTCOME']\n",
      "Number of Categorical features:  8\n",
      "['AGE' 'GENDER' 'RACE' 'DRIVING_EXPERIENCE' 'EDUCATION' 'INCOME'\n",
      " 'VEHICLE_YEAR' 'VEHICLE_TYPE']\n"
     ]
    }
   ],
   "source": [
    "# Pulling out names of Numerical variables by conditioning dtypes not equal to object type\n",
    "nc = df.select_dtypes(exclude='object').columns.values\n",
    "print(\"Number of Numerical features: \", len(nc))\n",
    "print(nc)\n",
    "# Pulling out names of categorical variables by conditioning dtypes equal to object type\n",
    "fc = df.select_dtypes(include='object').columns.values\n",
    "print(\"Number of Categorical features: \", len(fc))\n",
    "print(fc)"
   ]
  },
  {
   "cell_type": "code",
   "execution_count": 22,
   "metadata": {},
   "outputs": [
    {
     "name": "stdout",
     "output_type": "stream",
     "text": [
      "column: \n",
      " CREDIT_SCORE \n",
      " [0.62902731 0.35775712 0.49314579 ... 0.47094023 0.36418478 0.43522478] \n",
      "\n",
      "column: \n",
      " VEHICLE_OWNERSHIP \n",
      " [1. 0.] \n",
      "\n",
      "column: \n",
      " MARRIED \n",
      " [0. 1.] \n",
      "\n",
      "column: \n",
      " CHILDREN \n",
      " [1. 0.] \n",
      "\n",
      "column: \n",
      " POSTAL_CODE \n",
      " [10238 32765 92101 21217] \n",
      "\n",
      "column: \n",
      " ANNUAL_MILEAGE \n",
      " [12000. 16000. 11000. 13000. 14000. 10000.  8000. 18000. 17000.  7000.\n",
      " 15000.  9000.  5000.  6000. 19000.  4000.  3000.  2000. 20000. 21000.\n",
      " 22000.] \n",
      "\n",
      "column: \n",
      " SPEEDING_VIOLATIONS \n",
      " [ 0  2  3  7  6  4 10 13  1  5  9  8 12 11 15 17 19 18 16 14 22] \n",
      "\n",
      "column: \n",
      " DUIS \n",
      " [0 2 1 3 4 5 6] \n",
      "\n",
      "column: \n",
      " PAST_ACCIDENTS \n",
      " [ 0  1  3  7  2  5  4  6  8 10 11  9 12 14 15] \n",
      "\n",
      "column: \n",
      " OUTCOME \n",
      " [0 1] \n",
      "\n"
     ]
    }
   ],
   "source": [
    "# Checking unique values for Numerical features\n",
    "for col in nc:\n",
    "    print('column:','\\n',col, '\\n', df[col].unique(),'\\n')"
   ]
  },
  {
   "cell_type": "code",
   "execution_count": 23,
   "metadata": {},
   "outputs": [
    {
     "name": "stdout",
     "output_type": "stream",
     "text": [
      "column: \n",
      " AGE \n",
      " ['65+' '16-25' '26-39' '40-64'] \n",
      "\n",
      "column: \n",
      " GENDER \n",
      " ['female' 'male'] \n",
      "\n",
      "column: \n",
      " RACE \n",
      " ['majority' 'minority'] \n",
      "\n",
      "column: \n",
      " DRIVING_EXPERIENCE \n",
      " ['0-9y' '10-19y' '20-29y' '30y+'] \n",
      "\n",
      "column: \n",
      " EDUCATION \n",
      " ['high school' 'none' 'university'] \n",
      "\n",
      "column: \n",
      " INCOME \n",
      " ['upper class' 'poverty' 'working class' 'middle class'] \n",
      "\n",
      "column: \n",
      " VEHICLE_YEAR \n",
      " ['after 2015' 'before 2015'] \n",
      "\n",
      "column: \n",
      " VEHICLE_TYPE \n",
      " ['sedan' 'sports car'] \n",
      "\n"
     ]
    }
   ],
   "source": [
    "## Checking unique values for categorical features\n",
    "for col in fc:\n",
    "    print('column:','\\n',col, '\\n', df[col].unique(),'\\n')"
   ]
  },
  {
   "cell_type": "code",
   "execution_count": 24,
   "metadata": {},
   "outputs": [],
   "source": [
    "df['EDUCATION'].replace('none',np.nan, inplace=True)"
   ]
  },
  {
   "cell_type": "code",
   "execution_count": 25,
   "metadata": {},
   "outputs": [
    {
     "data": {
      "text/plain": [
       "high school    4157\n",
       "university     3928\n",
       "Name: EDUCATION, dtype: int64"
      ]
     },
     "execution_count": 25,
     "metadata": {},
     "output_type": "execute_result"
    }
   ],
   "source": [
    "df['EDUCATION'].value_counts()"
   ]
  },
  {
   "cell_type": "code",
   "execution_count": 26,
   "metadata": {},
   "outputs": [
    {
     "data": {
      "text/plain": [
       "AGE                       0\n",
       "GENDER                    0\n",
       "RACE                      0\n",
       "DRIVING_EXPERIENCE        0\n",
       "EDUCATION              1915\n",
       "INCOME                    0\n",
       "CREDIT_SCORE              0\n",
       "VEHICLE_OWNERSHIP         0\n",
       "VEHICLE_YEAR              0\n",
       "MARRIED                   0\n",
       "CHILDREN                  0\n",
       "POSTAL_CODE               0\n",
       "ANNUAL_MILEAGE            0\n",
       "VEHICLE_TYPE              0\n",
       "SPEEDING_VIOLATIONS       0\n",
       "DUIS                      0\n",
       "PAST_ACCIDENTS            0\n",
       "OUTCOME                   0\n",
       "dtype: int64"
      ]
     },
     "execution_count": 26,
     "metadata": {},
     "output_type": "execute_result"
    }
   ],
   "source": [
    "df.isnull().sum()"
   ]
  },
  {
   "cell_type": "code",
   "execution_count": 27,
   "metadata": {},
   "outputs": [],
   "source": [
    "#replacing nan values with mode\n",
    "df['EDUCATION'].replace(np.nan, 'high school',inplace=True)"
   ]
  },
  {
   "cell_type": "code",
   "execution_count": 28,
   "metadata": {},
   "outputs": [
    {
     "data": {
      "text/plain": [
       "0"
      ]
     },
     "execution_count": 28,
     "metadata": {},
     "output_type": "execute_result"
    }
   ],
   "source": [
    "df['EDUCATION'].isnull().sum()"
   ]
  },
  {
   "cell_type": "code",
   "execution_count": 29,
   "metadata": {},
   "outputs": [],
   "source": [
    "# Data Cleaning\n",
    "df['AGE'].replace({'16-25': 'Young', '26-39': 'Middle Age', '40-64': 'Old', '65+': 'Very Old'}, inplace=True)\n",
    "\n",
    "df['DRIVING_EXPERIENCE'].replace({'0-9y': 'Newbie', '10-19y': 'Amateur', '20-29y': 'Advanced', '30y+': 'Expert'}, inplace=True)"
   ]
  },
  {
   "cell_type": "code",
   "execution_count": 30,
   "metadata": {},
   "outputs": [
    {
     "data": {
      "text/plain": [
       "array(['Very Old', 'Young', 'Middle Age', 'Old'], dtype=object)"
      ]
     },
     "execution_count": 30,
     "metadata": {},
     "output_type": "execute_result"
    }
   ],
   "source": [
    "df['AGE'].unique()"
   ]
  },
  {
   "cell_type": "code",
   "execution_count": 31,
   "metadata": {},
   "outputs": [
    {
     "data": {
      "text/plain": [
       "array(['Newbie', 'Amateur', 'Advanced', 'Expert'], dtype=object)"
      ]
     },
     "execution_count": 31,
     "metadata": {},
     "output_type": "execute_result"
    }
   ],
   "source": [
    "df['DRIVING_EXPERIENCE'].unique()"
   ]
  },
  {
   "cell_type": "markdown",
   "metadata": {},
   "source": [
    "### Visualizing Categorical Variables"
   ]
  },
  {
   "cell_type": "code",
   "execution_count": 32,
   "metadata": {},
   "outputs": [
    {
     "data": {
      "image/png": "[encoded data removed]",
      "text/plain": [
       "<Figure size 864x504 with 1 Axes>"
      ]
     },
     "metadata": {
      "needs_background": "light"
     },
     "output_type": "display_data"
    },
    {
     "data": {
      "image/png": "[encoded data removed]",
      "text/plain": [
       "<Figure size 864x504 with 1 Axes>"
      ]
     },
     "metadata": {
      "needs_background": "light"
     },
     "output_type": "display_data"
    },
    {
     "data": {
      "image/png": "[encoded data removed]",
      "text/plain": [
       "<Figure size 864x504 with 1 Axes>"
      ]
     },
     "metadata": {
      "needs_background": "light"
     },
     "output_type": "display_data"
    },
    {
     "data": {
      "image/png": "[encoded data removed]",
      "text/plain": [
       "<Figure size 864x504 with 1 Axes>"
      ]
     },
     "metadata": {
      "needs_background": "light"
     },
     "output_type": "display_data"
    },
    {
     "data": {
      "image/png": "[encoded data removed]",
      "text/plain": [
       "<Figure size 864x504 with 1 Axes>"
      ]
     },
     "metadata": {
      "needs_background": "light"
     },
     "output_type": "display_data"
    },
    {
     "data": {
      "image/png": "[encoded data removed]",
      "text/plain": [
       "<Figure size 864x504 with 1 Axes>"
      ]
     },
     "metadata": {
      "needs_background": "light"
     },
     "output_type": "display_data"
    },
    {
     "data": {
      "image/png": "[encoded data removed]",
      "text/plain": [
       "<Figure size 864x504 with 1 Axes>"
      ]
     },
     "metadata": {
      "needs_background": "light"
     },
     "output_type": "display_data"
    },
    {
     "data": {
      "image/png": "[encoded data removed]",
      "text/plain": [
       "<Figure size 864x504 with 1 Axes>"
      ]
     },
     "metadata": {
      "needs_background": "light"
     },
     "output_type": "display_data"
    }
   ],
   "source": [
    "# Let's visualize all categorical columns at once\n",
    "for i in fc:\n",
    "    plt.figure(figsize=(12,7))\n",
    "    sns.countplot(x=df[i])"
   ]
  },
  {
   "cell_type": "markdown",
   "metadata": {},
   "source": [
    "### Observations:\n",
    "1. AGE : In Age column there are 4 different categories out of which the customers from age 26-39 are having the highest count.\n",
    "2. GENDER : In Gender column the count of male and female customers are nearly 50% each.\n",
    "3. RACE : In Race most of the customers are from Majority class.\n",
    "4. DRIVING_EXPERIENCE : In Driving Experience there are 4 different categories out of which customers from 0-9y have the maximum count.\n",
    "5. EDUCATION : In Education column there are 3 categories out of which high school have the maximum count.\n",
    "6. INCOME : In Income column there are 4 different categories out of which upper class have the maximum count.\n",
    "7. VEHICLE_YEAR : In Vehicle Year column there are 2 categories, vehicle purchased before 2015 and after 2015 out of which vehicle purchased before 2015 have almost 70% of count.\n",
    "8. VEHICLE_TYPE : In Vehicle type there are 2 types of vehicles sedan and sports car out of which sedan has almost 90% of count."
   ]
  },
  {
   "cell_type": "code",
   "execution_count": 33,
   "metadata": {},
   "outputs": [
    {
     "data": {
      "image/png": "[encoded data removed]",
      "text/plain": [
       "<Figure size 864x504 with 1 Axes>"
      ]
     },
     "metadata": {
      "needs_background": "light"
     },
     "output_type": "display_data"
    },
    {
     "data": {
      "image/png": "[encoded data removed]",
      "text/plain": [
       "<Figure size 864x504 with 1 Axes>"
      ]
     },
     "metadata": {
      "needs_background": "light"
     },
     "output_type": "display_data"
    },
    {
     "data": {
      "image/png": "[encoded data removed]",
      "text/plain": [
       "<Figure size 864x504 with 1 Axes>"
      ]
     },
     "metadata": {
      "needs_background": "light"
     },
     "output_type": "display_data"
    },
    {
     "data": {
      "image/png": "[encoded data removed]",
      "text/plain": [
       "<Figure size 864x504 with 1 Axes>"
      ]
     },
     "metadata": {
      "needs_background": "light"
     },
     "output_type": "display_data"
    },
    {
     "data": {
      "image/png": "[encoded data removed]",
      "text/plain": [
       "<Figure size 864x504 with 1 Axes>"
      ]
     },
     "metadata": {
      "needs_background": "light"
     },
     "output_type": "display_data"
    },
    {
     "data": {
      "image/png": "[encoded data removed]",
      "text/plain": [
       "<Figure size 864x504 with 1 Axes>"
      ]
     },
     "metadata": {
      "needs_background": "light"
     },
     "output_type": "display_data"
    },
    {
     "data": {
      "image/png": "[encoded data removed]",
      "text/plain": [
       "<Figure size 864x504 with 1 Axes>"
      ]
     },
     "metadata": {
      "needs_background": "light"
     },
     "output_type": "display_data"
    },
    {
     "data": {
      "image/png": "[encoded data removed]",
      "text/plain": [
       "<Figure size 864x504 with 1 Axes>"
      ]
     },
     "metadata": {
      "needs_background": "light"
     },
     "output_type": "display_data"
    }
   ],
   "source": [
    "# Let's visualize all categorical columns at once\n",
    "for i in fc:\n",
    "    plt.figure(figsize=(12,7))\n",
    "    sns.countplot(data= df,x=df[i], hue='OUTCOME')"
   ]
  },
  {
   "cell_type": "markdown",
   "metadata": {},
   "source": [
    "### Observations:\n",
    "1. In Age column Young and Middle Age customers claims more Insurance than customers of Old and Very Old Age.\n",
    "2. Male customers claims more Insurance than Female customers.\n",
    "3. In Race Majority of customers do not claim Insurance whereas there are very few customers who are having Minority Race.\n",
    "4. People who are in Newbie category claims more Insurances as compared to others.\n",
    "5. High School customers claims more Insurance than University customers.\n",
    "6. Customers with Poverty class in Income claims more Insurance than any other class.\n",
    "7. Customers who have purchased Car before 2015 claims more Insurance than customers who have purchased the car after 2015.\n",
    "8. Customers having Sedan car type claims more Insurance than customers who are having sports car. "
   ]
  },
  {
   "cell_type": "markdown",
   "metadata": {},
   "source": [
    "### Checking for Singularity"
   ]
  },
  {
   "cell_type": "code",
   "execution_count": 34,
   "metadata": {},
   "outputs": [
    {
     "name": "stdout",
     "output_type": "stream",
     "text": [
      "Middle Age    0.3063\n",
      "Old           0.2931\n",
      "Young         0.2016\n",
      "Very Old      0.1990\n",
      "Name: AGE, dtype: float64 \n",
      "\n",
      "female    0.501\n",
      "male      0.499\n",
      "Name: GENDER, dtype: float64 \n",
      "\n",
      "majority    0.9012\n",
      "minority    0.0988\n",
      "Name: RACE, dtype: float64 \n",
      "\n",
      "Newbie      0.3530\n",
      "Amateur     0.3299\n",
      "Advanced    0.2119\n",
      "Expert      0.1052\n",
      "Name: DRIVING_EXPERIENCE, dtype: float64 \n",
      "\n",
      "high school    0.6072\n",
      "university     0.3928\n",
      "Name: EDUCATION, dtype: float64 \n",
      "\n",
      "upper class      0.4336\n",
      "middle class     0.2138\n",
      "poverty          0.1814\n",
      "working class    0.1712\n",
      "Name: INCOME, dtype: float64 \n",
      "\n",
      "before 2015    0.6967\n",
      "after 2015     0.3033\n",
      "Name: VEHICLE_YEAR, dtype: float64 \n",
      "\n",
      "sedan         0.9523\n",
      "sports car    0.0477\n",
      "Name: VEHICLE_TYPE, dtype: float64 \n",
      "\n"
     ]
    }
   ],
   "source": [
    "### Checking Singularity\n",
    "for col in fc:\n",
    "    print(df[col].value_counts()/df.shape[0],'\\n')"
   ]
  },
  {
   "cell_type": "markdown",
   "metadata": {},
   "source": [
    "As we can see that the RACE and VEHICLE_TYPE columns are having singularity. Therefore dropping those 2 columns."
   ]
  },
  {
   "cell_type": "code",
   "execution_count": 35,
   "metadata": {},
   "outputs": [],
   "source": [
    "df.drop(['RACE','VEHICLE_TYPE'], axis=1, inplace=True)"
   ]
  },
  {
   "cell_type": "code",
   "execution_count": 36,
   "metadata": {},
   "outputs": [
    {
     "data": {
      "text/plain": [
       "Index(['AGE', 'GENDER', 'DRIVING_EXPERIENCE', 'EDUCATION', 'INCOME',\n",
       "       'CREDIT_SCORE', 'VEHICLE_OWNERSHIP', 'VEHICLE_YEAR', 'MARRIED',\n",
       "       'CHILDREN', 'POSTAL_CODE', 'ANNUAL_MILEAGE', 'SPEEDING_VIOLATIONS',\n",
       "       'DUIS', 'PAST_ACCIDENTS', 'OUTCOME'],\n",
       "      dtype='object')"
      ]
     },
     "execution_count": 36,
     "metadata": {},
     "output_type": "execute_result"
    }
   ],
   "source": [
    "df.columns"
   ]
  },
  {
   "cell_type": "markdown",
   "metadata": {},
   "source": [
    "### Visualizing Numerical Variables"
   ]
  },
  {
   "cell_type": "code",
   "execution_count": 37,
   "metadata": {},
   "outputs": [
    {
     "data": {
      "image/png": "[encoded data removed]",
      "text/plain": [
       "<Figure size 432x288 with 1 Axes>"
      ]
     },
     "metadata": {
      "needs_background": "light"
     },
     "output_type": "display_data"
    },
    {
     "data": {
      "image/png": "[encoded data removed]",
      "text/plain": [
       "<Figure size 432x288 with 1 Axes>"
      ]
     },
     "metadata": {
      "needs_background": "light"
     },
     "output_type": "display_data"
    },
    {
     "data": {
      "image/png": "[encoded data removed]",
      "text/plain": [
       "<Figure size 432x288 with 1 Axes>"
      ]
     },
     "metadata": {
      "needs_background": "light"
     },
     "output_type": "display_data"
    },
    {
     "data": {
      "image/png": "[encoded data removed]",
      "text/plain": [
       "<Figure size 432x288 with 1 Axes>"
      ]
     },
     "metadata": {
      "needs_background": "light"
     },
     "output_type": "display_data"
    },
    {
     "data": {
      "image/png": "[encoded data removed]",
      "text/plain": [
       "<Figure size 432x288 with 1 Axes>"
      ]
     },
     "metadata": {
      "needs_background": "light"
     },
     "output_type": "display_data"
    },
    {
     "data": {
      "image/png": "[encoded data removed]",
      "text/plain": [
       "<Figure size 432x288 with 1 Axes>"
      ]
     },
     "metadata": {
      "needs_background": "light"
     },
     "output_type": "display_data"
    },
    {
     "data": {
      "image/png": "[encoded data removed]",
      "text/plain": [
       "<Figure size 432x288 with 1 Axes>"
      ]
     },
     "metadata": {
      "needs_background": "light"
     },
     "output_type": "display_data"
    },
    {
     "data": {
      "image/png": "[encoded data removed]",
      "text/plain": [
       "<Figure size 432x288 with 1 Axes>"
      ]
     },
     "metadata": {
      "needs_background": "light"
     },
     "output_type": "display_data"
    },
    {
     "data": {
      "image/png": "[encoded data removed]",
      "text/plain": [
       "<Figure size 432x288 with 1 Axes>"
      ]
     },
     "metadata": {
      "needs_background": "light"
     },
     "output_type": "display_data"
    },
    {
     "data": {
      "image/png": "[encoded data removed]",
      "text/plain": [
       "<Figure size 432x288 with 1 Axes>"
      ]
     },
     "metadata": {
      "needs_background": "light"
     },
     "output_type": "display_data"
    }
   ],
   "source": [
    "# Boxplot to visualize the outliers\n",
    "for i in nc:\n",
    "    plt.figure()\n",
    "    df.boxplot([i])\n",
    "    plt.title(i)"
   ]
  },
  {
   "cell_type": "code",
   "execution_count": 38,
   "metadata": {},
   "outputs": [
    {
     "name": "stdout",
     "output_type": "stream",
     "text": [
      "[[0.85879984 0.65933317 0.99640646 ... 0.43102013 0.63926317 0.67545539]\n",
      " [1.21553599 1.51668389 0.99640646 ... 0.43102013 0.63926317 1.48048266]\n",
      " [0.18025247 0.65933317 0.99640646 ... 0.43102013 0.63926317 0.67545539]\n",
      " ...\n",
      " [0.35005282 0.65933317 0.99640646 ... 0.43102013 0.63926317 0.67545539]\n",
      " [1.16638521 1.51668389 0.99640646 ... 0.43102013 0.03407225 1.48048266]\n",
      " [0.62316003 0.65933317 1.0036065  ... 0.43102013 0.63926317 0.67545539]]\n",
      "(array([  10,   10,   14, ..., 9969, 9976, 9989], dtype=int64), array([7, 8, 7, ..., 7, 7, 6], dtype=int64))\n"
     ]
    }
   ],
   "source": [
    "# Now using Z-score method to check and remove outliers\n",
    "from scipy import stats\n",
    "z = np.abs(stats.zscore(df[nc]))\n",
    "print(z)\n",
    "threshold = 3\n",
    "print(np.where(z > 3))"
   ]
  },
  {
   "cell_type": "code",
   "execution_count": 39,
   "metadata": {},
   "outputs": [
    {
     "data": {
      "text/plain": [
       "(8817, 16)"
      ]
     },
     "execution_count": 39,
     "metadata": {},
     "output_type": "execute_result"
    }
   ],
   "source": [
    "# remove the outliers and check the shape of data\n",
    "data = df[(z < 3).all(axis=1)]\n",
    "data.shape"
   ]
  },
  {
   "cell_type": "code",
   "execution_count": 40,
   "metadata": {},
   "outputs": [
    {
     "data": {
      "image/png": "[encoded data removed]",
      "text/plain": [
       "<Figure size 432x288 with 1 Axes>"
      ]
     },
     "metadata": {
      "needs_background": "light"
     },
     "output_type": "display_data"
    },
    {
     "data": {
      "image/png": "[encoded data removed]",
      "text/plain": [
       "<Figure size 432x288 with 1 Axes>"
      ]
     },
     "metadata": {
      "needs_background": "light"
     },
     "output_type": "display_data"
    },
    {
     "data": {
      "image/png": "[encoded data removed]",
      "text/plain": [
       "<Figure size 432x288 with 1 Axes>"
      ]
     },
     "metadata": {
      "needs_background": "light"
     },
     "output_type": "display_data"
    },
    {
     "data": {
      "image/png": "[encoded data removed]",
      "text/plain": [
       "<Figure size 432x288 with 1 Axes>"
      ]
     },
     "metadata": {
      "needs_background": "light"
     },
     "output_type": "display_data"
    },
    {
     "data": {
      "image/png": "[encoded data removed]",
      "text/plain": [
       "<Figure size 432x288 with 1 Axes>"
      ]
     },
     "metadata": {
      "needs_background": "light"
     },
     "output_type": "display_data"
    },
    {
     "data": {
      "image/png": "[encoded data removed]",
      "text/plain": [
       "<Figure size 432x288 with 1 Axes>"
      ]
     },
     "metadata": {
      "needs_background": "light"
     },
     "output_type": "display_data"
    },
    {
     "data": {
      "image/png": "[encoded data removed]",
      "text/plain": [
       "<Figure size 432x288 with 1 Axes>"
      ]
     },
     "metadata": {
      "needs_background": "light"
     },
     "output_type": "display_data"
    },
    {
     "data": {
      "image/png": "[encoded data removed]",
      "text/plain": [
       "<Figure size 432x288 with 1 Axes>"
      ]
     },
     "metadata": {
      "needs_background": "light"
     },
     "output_type": "display_data"
    },
    {
     "data": {
      "image/png": "[encoded data removed]",
      "text/plain": [
       "<Figure size 432x288 with 1 Axes>"
      ]
     },
     "metadata": {
      "needs_background": "light"
     },
     "output_type": "display_data"
    },
    {
     "data": {
      "image/png": "[encoded data removed]",
      "text/plain": [
       "<Figure size 432x288 with 1 Axes>"
      ]
     },
     "metadata": {
      "needs_background": "light"
     },
     "output_type": "display_data"
    }
   ],
   "source": [
    "# Histogram for checking distribution of numerical features\n",
    "for col in nc:\n",
    "    plt.figure()\n",
    "    sns.histplot(data[col])\n",
    "plt.show()"
   ]
  },
  {
   "cell_type": "code",
   "execution_count": 41,
   "metadata": {},
   "outputs": [
    {
     "data": {
      "text/plain": [
       "<AxesSubplot:>"
      ]
     },
     "execution_count": 41,
     "metadata": {},
     "output_type": "execute_result"
    },
    {
     "data": {
      "image/png": "[encoded data removed]",
      "text/plain": [
       "<Figure size 1080x720 with 2 Axes>"
      ]
     },
     "metadata": {
      "needs_background": "light"
     },
     "output_type": "display_data"
    }
   ],
   "source": [
    "# Plot heatmap to visualize the correlation of variables \n",
    "fig,ax = plt.subplots(figsize=(15,10))\n",
    "cor = data[nc].corr()\n",
    "cor = np.tril(cor)\n",
    "sns.heatmap(cor, xticklabels = data[nc].columns, yticklabels = data[nc].columns,cbar=True,cmap='Blues',annot=True,linewidths=.5, ax=ax)"
   ]
  },
  {
   "cell_type": "markdown",
   "metadata": {},
   "source": [
    "### From the above heatmap we can see that none of the features are highly correlated."
   ]
  },
  {
   "cell_type": "code",
   "execution_count": 42,
   "metadata": {},
   "outputs": [
    {
     "data": {
      "text/plain": [
       "Index(['AGE', 'GENDER', 'DRIVING_EXPERIENCE', 'EDUCATION', 'INCOME',\n",
       "       'CREDIT_SCORE', 'VEHICLE_OWNERSHIP', 'VEHICLE_YEAR', 'MARRIED',\n",
       "       'CHILDREN', 'POSTAL_CODE', 'ANNUAL_MILEAGE', 'SPEEDING_VIOLATIONS',\n",
       "       'DUIS', 'PAST_ACCIDENTS', 'OUTCOME'],\n",
       "      dtype='object')"
      ]
     },
     "execution_count": 42,
     "metadata": {},
     "output_type": "execute_result"
    }
   ],
   "source": [
    "data.columns"
   ]
  },
  {
   "cell_type": "code",
   "execution_count": 43,
   "metadata": {},
   "outputs": [
    {
     "data": {
      "text/html": [
       "<div>\n",
       "<style scoped>\n",
       "    .dataframe tbody tr th:only-of-type {\n",
       "        vertical-align: middle;\n",
       "    }\n",
       "\n",
       "    .dataframe tbody tr th {\n",
       "        vertical-align: top;\n",
       "    }\n",
       "\n",
       "    .dataframe thead th {\n",
       "        text-align: right;\n",
       "    }\n",
       "</style>\n",
       "<table border=\"1\" class=\"dataframe\">\n",
       "  <thead>\n",
       "    <tr style=\"text-align: right;\">\n",
       "      <th></th>\n",
       "      <th>AGE_Middle Age</th>\n",
       "      <th>AGE_Old</th>\n",
       "      <th>AGE_Very Old</th>\n",
       "      <th>AGE_Young</th>\n",
       "      <th>GENDER_female</th>\n",
       "      <th>GENDER_male</th>\n",
       "      <th>DRIVING_EXPERIENCE_Advanced</th>\n",
       "      <th>DRIVING_EXPERIENCE_Amateur</th>\n",
       "      <th>DRIVING_EXPERIENCE_Expert</th>\n",
       "      <th>DRIVING_EXPERIENCE_Newbie</th>\n",
       "      <th>EDUCATION_high school</th>\n",
       "      <th>EDUCATION_university</th>\n",
       "      <th>INCOME_middle class</th>\n",
       "      <th>INCOME_poverty</th>\n",
       "      <th>INCOME_upper class</th>\n",
       "      <th>INCOME_working class</th>\n",
       "      <th>VEHICLE_YEAR_after 2015</th>\n",
       "      <th>VEHICLE_YEAR_before 2015</th>\n",
       "    </tr>\n",
       "  </thead>\n",
       "  <tbody>\n",
       "    <tr>\n",
       "      <th>0</th>\n",
       "      <td>0</td>\n",
       "      <td>0</td>\n",
       "      <td>1</td>\n",
       "      <td>0</td>\n",
       "      <td>1</td>\n",
       "      <td>0</td>\n",
       "      <td>0</td>\n",
       "      <td>0</td>\n",
       "      <td>0</td>\n",
       "      <td>1</td>\n",
       "      <td>1</td>\n",
       "      <td>0</td>\n",
       "      <td>0</td>\n",
       "      <td>0</td>\n",
       "      <td>1</td>\n",
       "      <td>0</td>\n",
       "      <td>1</td>\n",
       "      <td>0</td>\n",
       "    </tr>\n",
       "    <tr>\n",
       "      <th>1</th>\n",
       "      <td>0</td>\n",
       "      <td>0</td>\n",
       "      <td>0</td>\n",
       "      <td>1</td>\n",
       "      <td>0</td>\n",
       "      <td>1</td>\n",
       "      <td>0</td>\n",
       "      <td>0</td>\n",
       "      <td>0</td>\n",
       "      <td>1</td>\n",
       "      <td>1</td>\n",
       "      <td>0</td>\n",
       "      <td>0</td>\n",
       "      <td>1</td>\n",
       "      <td>0</td>\n",
       "      <td>0</td>\n",
       "      <td>0</td>\n",
       "      <td>1</td>\n",
       "    </tr>\n",
       "    <tr>\n",
       "      <th>2</th>\n",
       "      <td>0</td>\n",
       "      <td>0</td>\n",
       "      <td>0</td>\n",
       "      <td>1</td>\n",
       "      <td>1</td>\n",
       "      <td>0</td>\n",
       "      <td>0</td>\n",
       "      <td>0</td>\n",
       "      <td>0</td>\n",
       "      <td>1</td>\n",
       "      <td>1</td>\n",
       "      <td>0</td>\n",
       "      <td>0</td>\n",
       "      <td>0</td>\n",
       "      <td>0</td>\n",
       "      <td>1</td>\n",
       "      <td>0</td>\n",
       "      <td>1</td>\n",
       "    </tr>\n",
       "    <tr>\n",
       "      <th>3</th>\n",
       "      <td>0</td>\n",
       "      <td>0</td>\n",
       "      <td>0</td>\n",
       "      <td>1</td>\n",
       "      <td>0</td>\n",
       "      <td>1</td>\n",
       "      <td>0</td>\n",
       "      <td>0</td>\n",
       "      <td>0</td>\n",
       "      <td>1</td>\n",
       "      <td>0</td>\n",
       "      <td>1</td>\n",
       "      <td>0</td>\n",
       "      <td>0</td>\n",
       "      <td>0</td>\n",
       "      <td>1</td>\n",
       "      <td>0</td>\n",
       "      <td>1</td>\n",
       "    </tr>\n",
       "    <tr>\n",
       "      <th>4</th>\n",
       "      <td>1</td>\n",
       "      <td>0</td>\n",
       "      <td>0</td>\n",
       "      <td>0</td>\n",
       "      <td>0</td>\n",
       "      <td>1</td>\n",
       "      <td>0</td>\n",
       "      <td>1</td>\n",
       "      <td>0</td>\n",
       "      <td>0</td>\n",
       "      <td>1</td>\n",
       "      <td>0</td>\n",
       "      <td>0</td>\n",
       "      <td>0</td>\n",
       "      <td>0</td>\n",
       "      <td>1</td>\n",
       "      <td>0</td>\n",
       "      <td>1</td>\n",
       "    </tr>\n",
       "    <tr>\n",
       "      <th>...</th>\n",
       "      <td>...</td>\n",
       "      <td>...</td>\n",
       "      <td>...</td>\n",
       "      <td>...</td>\n",
       "      <td>...</td>\n",
       "      <td>...</td>\n",
       "      <td>...</td>\n",
       "      <td>...</td>\n",
       "      <td>...</td>\n",
       "      <td>...</td>\n",
       "      <td>...</td>\n",
       "      <td>...</td>\n",
       "      <td>...</td>\n",
       "      <td>...</td>\n",
       "      <td>...</td>\n",
       "      <td>...</td>\n",
       "      <td>...</td>\n",
       "      <td>...</td>\n",
       "    </tr>\n",
       "    <tr>\n",
       "      <th>9995</th>\n",
       "      <td>1</td>\n",
       "      <td>0</td>\n",
       "      <td>0</td>\n",
       "      <td>0</td>\n",
       "      <td>1</td>\n",
       "      <td>0</td>\n",
       "      <td>0</td>\n",
       "      <td>1</td>\n",
       "      <td>0</td>\n",
       "      <td>0</td>\n",
       "      <td>0</td>\n",
       "      <td>1</td>\n",
       "      <td>0</td>\n",
       "      <td>0</td>\n",
       "      <td>1</td>\n",
       "      <td>0</td>\n",
       "      <td>0</td>\n",
       "      <td>1</td>\n",
       "    </tr>\n",
       "    <tr>\n",
       "      <th>9996</th>\n",
       "      <td>1</td>\n",
       "      <td>0</td>\n",
       "      <td>0</td>\n",
       "      <td>0</td>\n",
       "      <td>1</td>\n",
       "      <td>0</td>\n",
       "      <td>0</td>\n",
       "      <td>1</td>\n",
       "      <td>0</td>\n",
       "      <td>0</td>\n",
       "      <td>1</td>\n",
       "      <td>0</td>\n",
       "      <td>1</td>\n",
       "      <td>0</td>\n",
       "      <td>0</td>\n",
       "      <td>0</td>\n",
       "      <td>1</td>\n",
       "      <td>0</td>\n",
       "    </tr>\n",
       "    <tr>\n",
       "      <th>9997</th>\n",
       "      <td>1</td>\n",
       "      <td>0</td>\n",
       "      <td>0</td>\n",
       "      <td>0</td>\n",
       "      <td>0</td>\n",
       "      <td>1</td>\n",
       "      <td>0</td>\n",
       "      <td>0</td>\n",
       "      <td>0</td>\n",
       "      <td>1</td>\n",
       "      <td>1</td>\n",
       "      <td>0</td>\n",
       "      <td>1</td>\n",
       "      <td>0</td>\n",
       "      <td>0</td>\n",
       "      <td>0</td>\n",
       "      <td>0</td>\n",
       "      <td>1</td>\n",
       "    </tr>\n",
       "    <tr>\n",
       "      <th>9998</th>\n",
       "      <td>1</td>\n",
       "      <td>0</td>\n",
       "      <td>0</td>\n",
       "      <td>0</td>\n",
       "      <td>1</td>\n",
       "      <td>0</td>\n",
       "      <td>0</td>\n",
       "      <td>1</td>\n",
       "      <td>0</td>\n",
       "      <td>0</td>\n",
       "      <td>1</td>\n",
       "      <td>0</td>\n",
       "      <td>0</td>\n",
       "      <td>1</td>\n",
       "      <td>0</td>\n",
       "      <td>0</td>\n",
       "      <td>0</td>\n",
       "      <td>1</td>\n",
       "    </tr>\n",
       "    <tr>\n",
       "      <th>9999</th>\n",
       "      <td>1</td>\n",
       "      <td>0</td>\n",
       "      <td>0</td>\n",
       "      <td>0</td>\n",
       "      <td>1</td>\n",
       "      <td>0</td>\n",
       "      <td>0</td>\n",
       "      <td>0</td>\n",
       "      <td>0</td>\n",
       "      <td>1</td>\n",
       "      <td>1</td>\n",
       "      <td>0</td>\n",
       "      <td>0</td>\n",
       "      <td>0</td>\n",
       "      <td>0</td>\n",
       "      <td>1</td>\n",
       "      <td>0</td>\n",
       "      <td>1</td>\n",
       "    </tr>\n",
       "  </tbody>\n",
       "</table>\n",
       "<p>8817 rows × 18 columns</p>\n",
       "</div>"
      ],
      "text/plain": [
       "      AGE_Middle Age  AGE_Old  AGE_Very Old  AGE_Young  GENDER_female  \\\n",
       "0                  0        0             1          0              1   \n",
       "1                  0        0             0          1              0   \n",
       "2                  0        0             0          1              1   \n",
       "3                  0        0             0          1              0   \n",
       "4                  1        0             0          0              0   \n",
       "...              ...      ...           ...        ...            ...   \n",
       "9995               1        0             0          0              1   \n",
       "9996               1        0             0          0              1   \n",
       "9997               1        0             0          0              0   \n",
       "9998               1        0             0          0              1   \n",
       "9999               1        0             0          0              1   \n",
       "\n",
       "      GENDER_male  DRIVING_EXPERIENCE_Advanced  DRIVING_EXPERIENCE_Amateur  \\\n",
       "0               0                            0                           0   \n",
       "1               1                            0                           0   \n",
       "2               0                            0                           0   \n",
       "3               1                            0                           0   \n",
       "4               1                            0                           1   \n",
       "...           ...                          ...                         ...   \n",
       "9995            0                            0                           1   \n",
       "9996            0                            0                           1   \n",
       "9997            1                            0                           0   \n",
       "9998            0                            0                           1   \n",
       "9999            0                            0                           0   \n",
       "\n",
       "      DRIVING_EXPERIENCE_Expert  DRIVING_EXPERIENCE_Newbie  \\\n",
       "0                             0                          1   \n",
       "1                             0                          1   \n",
       "2                             0                          1   \n",
       "3                             0                          1   \n",
       "4                             0                          0   \n",
       "...                         ...                        ...   \n",
       "9995                          0                          0   \n",
       "9996                          0                          0   \n",
       "9997                          0                          1   \n",
       "9998                          0                          0   \n",
       "9999                          0                          1   \n",
       "\n",
       "      EDUCATION_high school  EDUCATION_university  INCOME_middle class  \\\n",
       "0                         1                     0                    0   \n",
       "1                         1                     0                    0   \n",
       "2                         1                     0                    0   \n",
       "3                         0                     1                    0   \n",
       "4                         1                     0                    0   \n",
       "...                     ...                   ...                  ...   \n",
       "9995                      0                     1                    0   \n",
       "9996                      1                     0                    1   \n",
       "9997                      1                     0                    1   \n",
       "9998                      1                     0                    0   \n",
       "9999                      1                     0                    0   \n",
       "\n",
       "      INCOME_poverty  INCOME_upper class  INCOME_working class  \\\n",
       "0                  0                   1                     0   \n",
       "1                  1                   0                     0   \n",
       "2                  0                   0                     1   \n",
       "3                  0                   0                     1   \n",
       "4                  0                   0                     1   \n",
       "...              ...                 ...                   ...   \n",
       "9995               0                   1                     0   \n",
       "9996               0                   0                     0   \n",
       "9997               0                   0                     0   \n",
       "9998               1                   0                     0   \n",
       "9999               0                   0                     1   \n",
       "\n",
       "      VEHICLE_YEAR_after 2015  VEHICLE_YEAR_before 2015  \n",
       "0                           1                         0  \n",
       "1                           0                         1  \n",
       "2                           0                         1  \n",
       "3                           0                         1  \n",
       "4                           0                         1  \n",
       "...                       ...                       ...  \n",
       "9995                        0                         1  \n",
       "9996                        1                         0  \n",
       "9997                        0                         1  \n",
       "9998                        0                         1  \n",
       "9999                        0                         1  \n",
       "\n",
       "[8817 rows x 18 columns]"
      ]
     },
     "execution_count": 43,
     "metadata": {},
     "output_type": "execute_result"
    }
   ],
   "source": [
    "fc = df.select_dtypes(include='object').columns.values\n",
    "dummies = pd.get_dummies(data[fc])\n",
    "dummies"
   ]
  },
  {
   "cell_type": "code",
   "execution_count": 44,
   "metadata": {},
   "outputs": [],
   "source": [
    "df_final = pd.concat([data[nc], dummies], axis=1)"
   ]
  },
  {
   "cell_type": "code",
   "execution_count": 45,
   "metadata": {},
   "outputs": [
    {
     "data": {
      "text/plain": [
       "Index(['CREDIT_SCORE', 'VEHICLE_OWNERSHIP', 'MARRIED', 'CHILDREN',\n",
       "       'POSTAL_CODE', 'ANNUAL_MILEAGE', 'SPEEDING_VIOLATIONS', 'DUIS',\n",
       "       'PAST_ACCIDENTS', 'OUTCOME', 'AGE_Middle Age', 'AGE_Old',\n",
       "       'AGE_Very Old', 'AGE_Young', 'GENDER_female', 'GENDER_male',\n",
       "       'DRIVING_EXPERIENCE_Advanced', 'DRIVING_EXPERIENCE_Amateur',\n",
       "       'DRIVING_EXPERIENCE_Expert', 'DRIVING_EXPERIENCE_Newbie',\n",
       "       'EDUCATION_high school', 'EDUCATION_university', 'INCOME_middle class',\n",
       "       'INCOME_poverty', 'INCOME_upper class', 'INCOME_working class',\n",
       "       'VEHICLE_YEAR_after 2015', 'VEHICLE_YEAR_before 2015'],\n",
       "      dtype='object')"
      ]
     },
     "execution_count": 45,
     "metadata": {},
     "output_type": "execute_result"
    }
   ],
   "source": [
    "df_final.columns"
   ]
  },
  {
   "cell_type": "markdown",
   "metadata": {},
   "source": [
    "###  Train and Test Split"
   ]
  },
  {
   "cell_type": "code",
   "execution_count": 46,
   "metadata": {},
   "outputs": [],
   "source": [
    "X = df_final.drop(['OUTCOME'], axis=1)\n",
    "y = df_final['OUTCOME']"
   ]
  },
  {
   "cell_type": "code",
   "execution_count": 47,
   "metadata": {},
   "outputs": [],
   "source": [
    "from sklearn.model_selection import train_test_split\n",
    "X_train, X_test, y_train, y_test = train_test_split(X, y, train_size=0.7, random_state=42)"
   ]
  },
  {
   "cell_type": "code",
   "execution_count": 48,
   "metadata": {},
   "outputs": [
    {
     "data": {
      "text/plain": [
       "(6171, 27)"
      ]
     },
     "execution_count": 48,
     "metadata": {},
     "output_type": "execute_result"
    }
   ],
   "source": [
    "X_train.shape"
   ]
  },
  {
   "cell_type": "code",
   "execution_count": 49,
   "metadata": {},
   "outputs": [
    {
     "data": {
      "text/plain": [
       "(2646, 27)"
      ]
     },
     "execution_count": 49,
     "metadata": {},
     "output_type": "execute_result"
    }
   ],
   "source": [
    "X_test.shape"
   ]
  },
  {
   "cell_type": "code",
   "execution_count": 50,
   "metadata": {},
   "outputs": [
    {
     "data": {
      "text/plain": [
       "(6171,)"
      ]
     },
     "execution_count": 50,
     "metadata": {},
     "output_type": "execute_result"
    }
   ],
   "source": [
    "y_train.shape"
   ]
  },
  {
   "cell_type": "markdown",
   "metadata": {},
   "source": [
    "### Using (Synthetic Minority Oversampling Technique) SMOTE for handling Unbalanced Data"
   ]
  },
  {
   "cell_type": "code",
   "execution_count": 51,
   "metadata": {},
   "outputs": [],
   "source": [
    "from imblearn.over_sampling import SMOTE\n",
    "from collections import Counter"
   ]
  },
  {
   "cell_type": "code",
   "execution_count": 52,
   "metadata": {},
   "outputs": [
    {
     "name": "stdout",
     "output_type": "stream",
     "text": [
      "Before Counter({0: 4186, 1: 1985})\n",
      "Before Counter({0: 1766, 1: 880})\n",
      "After Counter({0: 4186, 1: 4186})\n",
      "After Counter({0: 1766, 1: 1766})\n"
     ]
    }
   ],
   "source": [
    "counter = Counter(y_train)\n",
    "counter1 = Counter(y_test)\n",
    "print('Before',counter)\n",
    "print('Before',counter1)\n",
    "#oversampling the training dataset using SMOTE\n",
    "smt = SMOTE()\n",
    "X_train_sm, y_train_sm = smt.fit_resample(X_train, y_train)\n",
    "X_test_sm, y_test_sm = smt.fit_resample(X_test, y_test)\n",
    "counter = Counter(y_train_sm)\n",
    "counter1 = Counter(y_test_sm)\n",
    "print('After', counter)\n",
    "print('After',counter1)"
   ]
  },
  {
   "cell_type": "code",
   "execution_count": 53,
   "metadata": {},
   "outputs": [
    {
     "data": {
      "text/plain": [
       "1    4186\n",
       "0    4186\n",
       "Name: OUTCOME, dtype: int64"
      ]
     },
     "execution_count": 53,
     "metadata": {},
     "output_type": "execute_result"
    }
   ],
   "source": [
    "y_train_sm.value_counts()"
   ]
  },
  {
   "cell_type": "code",
   "execution_count": 54,
   "metadata": {},
   "outputs": [
    {
     "data": {
      "text/plain": [
       "1    1766\n",
       "0    1766\n",
       "Name: OUTCOME, dtype: int64"
      ]
     },
     "execution_count": 54,
     "metadata": {},
     "output_type": "execute_result"
    }
   ],
   "source": [
    "y_test_sm.value_counts()"
   ]
  },
  {
   "cell_type": "code",
   "execution_count": 55,
   "metadata": {},
   "outputs": [
    {
     "data": {
      "text/plain": [
       "Index(['CREDIT_SCORE', 'VEHICLE_OWNERSHIP', 'MARRIED', 'CHILDREN',\n",
       "       'POSTAL_CODE', 'ANNUAL_MILEAGE', 'SPEEDING_VIOLATIONS', 'DUIS',\n",
       "       'PAST_ACCIDENTS', 'AGE_Middle Age', 'AGE_Old', 'AGE_Very Old',\n",
       "       'AGE_Young', 'GENDER_female', 'GENDER_male',\n",
       "       'DRIVING_EXPERIENCE_Advanced', 'DRIVING_EXPERIENCE_Amateur',\n",
       "       'DRIVING_EXPERIENCE_Expert', 'DRIVING_EXPERIENCE_Newbie',\n",
       "       'EDUCATION_high school', 'EDUCATION_university', 'INCOME_middle class',\n",
       "       'INCOME_poverty', 'INCOME_upper class', 'INCOME_working class',\n",
       "       'VEHICLE_YEAR_after 2015', 'VEHICLE_YEAR_before 2015'],\n",
       "      dtype='object')"
      ]
     },
     "execution_count": 55,
     "metadata": {},
     "output_type": "execute_result"
    }
   ],
   "source": [
    "X_train_sm.columns"
   ]
  },
  {
   "cell_type": "code",
   "execution_count": 56,
   "metadata": {},
   "outputs": [
    {
     "data": {
      "text/plain": [
       "StandardScaler()"
      ]
     },
     "execution_count": 56,
     "metadata": {},
     "output_type": "execute_result"
    }
   ],
   "source": [
    "from sklearn.preprocessing import StandardScaler\n",
    "scaler = StandardScaler()\n",
    "scaler.fit(X_train_sm)"
   ]
  },
  {
   "cell_type": "code",
   "execution_count": 57,
   "metadata": {},
   "outputs": [],
   "source": [
    "X_train_q = scaler.transform(X_train_sm)\n",
    "X_test_q = scaler.transform(X_test_sm)"
   ]
  },
  {
   "cell_type": "code",
   "execution_count": 58,
   "metadata": {},
   "outputs": [
    {
     "data": {
      "text/plain": [
       "(8372, 27)"
      ]
     },
     "execution_count": 58,
     "metadata": {},
     "output_type": "execute_result"
    }
   ],
   "source": [
    "X_train_q.shape"
   ]
  },
  {
   "cell_type": "code",
   "execution_count": 59,
   "metadata": {},
   "outputs": [
    {
     "data": {
      "text/plain": [
       "(3532, 27)"
      ]
     },
     "execution_count": 59,
     "metadata": {},
     "output_type": "execute_result"
    }
   ],
   "source": [
    "X_test_q.shape"
   ]
  },
  {
   "cell_type": "code",
   "execution_count": 60,
   "metadata": {},
   "outputs": [
    {
     "name": "stdout",
     "output_type": "stream",
     "text": [
      "Optimization terminated successfully.\n",
      "         Current function value: 0.292605\n",
      "         Iterations 9\n"
     ]
    }
   ],
   "source": [
    "import statsmodels.api as sm\n",
    "logit_model = sm.Logit(y_train_sm,X_train_q)\n",
    "result = logit_model.fit()"
   ]
  },
  {
   "cell_type": "code",
   "execution_count": 61,
   "metadata": {},
   "outputs": [
    {
     "name": "stdout",
     "output_type": "stream",
     "text": [
      "                         Results: Logit\n",
      "================================================================\n",
      "Model:              Logit            Pseudo R-squared: 0.578    \n",
      "Dependent Variable: OUTCOME          AIC:              4953.3740\n",
      "Date:               2021-12-13 23:01 BIC:              5143.2555\n",
      "No. Observations:   8372             Log-Likelihood:   -2449.7  \n",
      "Df Model:           26               LL-Null:          -5803.0  \n",
      "Df Residuals:       8345             LLR p-value:      0.0000   \n",
      "Converged:          1.0000           Scale:            1.0000   \n",
      "No. Iterations:     9.0000                                      \n",
      "------------------------------------------------------------------\n",
      "         Coef.    Std.Err.      z       P>|z|     [0.025    0.975]\n",
      "------------------------------------------------------------------\n",
      "x1       0.0386     0.0526     0.7341   0.4629   -0.0645    0.1417\n",
      "x2      -0.9049     0.0402   -22.5082   0.0000   -0.9837   -0.8261\n",
      "x3      -0.2747     0.0430    -6.3834   0.0000   -0.3591   -0.1904\n",
      "x4      -0.0355     0.0403    -0.8797   0.3790   -0.1145    0.0436\n",
      "x5       0.5167     0.0430    12.0041   0.0000    0.4323    0.6010\n",
      "x6       0.3041     0.0485     6.2674   0.0000    0.2090    0.3992\n",
      "x7      -0.0605     0.0624    -0.9698   0.3321   -0.1827    0.0617\n",
      "x8      -0.0313     0.0449    -0.6974   0.4856   -0.1192    0.0566\n",
      "x9      -0.2753     0.0636    -4.3257   0.0000   -0.4000   -0.1506\n",
      "x10     -1.6036     0.2129    -7.5311   0.0000   -2.0209   -1.1862\n",
      "x11     -1.4648     0.1950    -7.5111   0.0000   -1.8470   -1.0825\n",
      "x12     -1.1141     0.1610    -6.9217   0.0000   -1.4296   -0.7987\n",
      "x13     -1.4784     0.2091    -7.0720   0.0000   -1.8882   -1.0687\n",
      "x14     -2.0318     0.3060    -6.6396   0.0000   -2.6315   -1.4320\n",
      "x15     -1.4665     0.3059    -4.7945   0.0000   -2.0659   -0.8670\n",
      "x16     -2.0644     0.3132    -6.5917   0.0000   -2.6782   -1.4506\n",
      "x17     -1.7863     0.3942    -4.5317   0.0000   -2.5589   -1.0138\n",
      "x18     -1.4660     0.2312    -6.3396   0.0000   -1.9192   -1.0128\n",
      "x19     -1.0353     0.4253    -2.4344   0.0149   -1.8688   -0.2017\n",
      "x20     -1.3941     0.3073    -4.5363   0.0000   -1.9965   -0.7918\n",
      "x21     -1.3831     0.3012    -4.5918   0.0000   -1.9734   -0.7927\n",
      "x22     -1.4610     0.1757    -8.3158   0.0000   -1.8054   -1.1167\n",
      "x23     -1.4879     0.1926    -7.7245   0.0000   -1.8654   -1.1103\n",
      "x24     -1.7832     0.2163    -8.2436   0.0000   -2.2072   -1.3592\n",
      "x25     -1.3753     0.1703    -8.0744   0.0000   -1.7091   -1.0415\n",
      "x26     -2.2109     0.3430    -6.4459   0.0000   -2.8831   -1.5386\n",
      "x27     -1.3259     0.3506    -3.7820   0.0002   -2.0130   -0.6387\n",
      "================================================================\n",
      "\n"
     ]
    }
   ],
   "source": [
    "print(result.summary2())"
   ]
  },
  {
   "cell_type": "markdown",
   "metadata": {},
   "source": [
    "### Model imports"
   ]
  },
  {
   "cell_type": "code",
   "execution_count": 62,
   "metadata": {},
   "outputs": [],
   "source": [
    "from sklearn.linear_model import LogisticRegression\n",
    "from sklearn.tree import DecisionTreeClassifier\n",
    "from sklearn.svm import SVC\n",
    "from sklearn.ensemble import RandomForestClassifier, AdaBoostClassifier\n",
    "from xgboost import XGBClassifier\n",
    "from scipy.stats import randint as sp_randint\n",
    "from sklearn.model_selection import RandomizedSearchCV"
   ]
  },
  {
   "cell_type": "code",
   "execution_count": 63,
   "metadata": {},
   "outputs": [],
   "source": [
    "from warnings import filterwarnings\n",
    "filterwarnings('ignore')"
   ]
  },
  {
   "cell_type": "markdown",
   "metadata": {},
   "source": [
    "### Logistic Regression"
   ]
  },
  {
   "cell_type": "code",
   "execution_count": 64,
   "metadata": {},
   "outputs": [
    {
     "data": {
      "text/plain": [
       "LogisticRegression()"
      ]
     },
     "execution_count": 64,
     "metadata": {},
     "output_type": "execute_result"
    }
   ],
   "source": [
    "from sklearn.linear_model import LogisticRegression\n",
    "# Representing LinearRegression as lr(Creating  LinearRegression object)\n",
    "lr = LogisticRegression()\n",
    "# fit the model to the training data\n",
    "lr.fit(X_train_q,y_train_sm)"
   ]
  },
  {
   "cell_type": "code",
   "execution_count": 65,
   "metadata": {},
   "outputs": [],
   "source": [
    "# Making predictions using the model\n",
    "lr_pred = lr.predict(X_test_q)"
   ]
  },
  {
   "cell_type": "code",
   "execution_count": 66,
   "metadata": {},
   "outputs": [
    {
     "data": {
      "text/plain": [
       "0.8748584371460929"
      ]
     },
     "execution_count": 66,
     "metadata": {},
     "output_type": "execute_result"
    }
   ],
   "source": [
    "lr_acc_score = metrics.accuracy_score(y_test_sm, lr_pred)\n",
    "lr_acc_score"
   ]
  },
  {
   "cell_type": "code",
   "execution_count": 67,
   "metadata": {},
   "outputs": [
    {
     "name": "stdout",
     "output_type": "stream",
     "text": [
      "[[1544  222]\n",
      " [ 220 1546]]\n",
      "              precision    recall  f1-score   support\n",
      "\n",
      "           0       0.88      0.87      0.87      1766\n",
      "           1       0.87      0.88      0.87      1766\n",
      "\n",
      "    accuracy                           0.87      3532\n",
      "   macro avg       0.87      0.87      0.87      3532\n",
      "weighted avg       0.87      0.87      0.87      3532\n",
      "\n"
     ]
    }
   ],
   "source": [
    "print(confusion_matrix(y_test_sm, lr_pred))\n",
    "print(classification_report(y_test_sm, lr_pred))"
   ]
  },
  {
   "cell_type": "code",
   "execution_count": 68,
   "metadata": {},
   "outputs": [],
   "source": [
    "from sklearn.metrics import classification_report, plot_confusion_matrix,plot_roc_curve\n",
    "from sklearn.model_selection import cross_val_score"
   ]
  },
  {
   "cell_type": "code",
   "execution_count": 69,
   "metadata": {},
   "outputs": [
    {
     "data": {
      "text/plain": [
       "<sklearn.metrics._plot.confusion_matrix.ConfusionMatrixDisplay at 0x1dda5f374c0>"
      ]
     },
     "execution_count": 69,
     "metadata": {},
     "output_type": "execute_result"
    },
    {
     "data": {
      "image/png": "[encoded data removed]",
      "text/plain": [
       "<Figure size 432x288 with 2 Axes>"
      ]
     },
     "metadata": {
      "needs_background": "light"
     },
     "output_type": "display_data"
    }
   ],
   "source": [
    "plot_confusion_matrix(lr, X_test_q,y_test_sm)"
   ]
  },
  {
   "cell_type": "code",
   "execution_count": 70,
   "metadata": {},
   "outputs": [
    {
     "data": {
      "text/plain": [
       "<sklearn.metrics._plot.roc_curve.RocCurveDisplay at 0x1dda5dd7820>"
      ]
     },
     "execution_count": 70,
     "metadata": {},
     "output_type": "execute_result"
    },
    {
     "data": {
      "image/png": "[encoded data removed]",
      "text/plain": [
       "<Figure size 432x288 with 1 Axes>"
      ]
     },
     "metadata": {
      "needs_background": "light"
     },
     "output_type": "display_data"
    }
   ],
   "source": [
    "plot_roc_curve(lr, X_test_q,y_test_sm)"
   ]
  },
  {
   "cell_type": "markdown",
   "metadata": {},
   "source": [
    "### Evaluation Using Cross-Validation"
   ]
  },
  {
   "cell_type": "code",
   "execution_count": 71,
   "metadata": {},
   "outputs": [],
   "source": [
    "def get_cv_score(lr, X, y, cv=5):\n",
    "    \n",
    "    \n",
    "    cv_accuracy = cross_val_score(lr,X,y,cv=cv,\n",
    "                         scoring='accuracy')\n",
    "    print(f'Cross Validaion accuracy Scores: {cv_accuracy}')\n",
    "    print(f'Cross Validation accuracy Mean Score: {cv_accuracy.mean()}')\n",
    "    \n",
    "    cv_precision = cross_val_score(lr,X,y,cv=cv,\n",
    "                         scoring='precision')\n",
    "    print(f'Cross Validaion precision Scores: {cv_precision}')\n",
    "    print(f'Cross Validation precision Mean Score: {cv_precision.mean()}')\n",
    "    \n",
    "    cv_recall = cross_val_score(lr,X,y,cv=cv,\n",
    "                         scoring='recall')\n",
    "    print(f'Cross Validaion recall Scores: {cv_recall}')\n",
    "    print(f'Cross Validation recall Mean Score: {cv_recall.mean()}')\n",
    "    \n",
    "    cv_f1 = cross_val_score(lr,X,y,cv=cv,\n",
    "                         scoring='f1')\n",
    "    print(f'Cross Validaion f1 Scores: {cv_f1}')\n",
    "    print(f'Cross Validation f1 Mean Score: {cv_f1.mean()}')   \n",
    "    \n",
    "    cv_merics = pd.DataFrame({'Accuracy': cv_accuracy.mean(),\n",
    "                         'Precision': cv_precision.mean(),\n",
    "                         'Recall': cv_recall.mean(),\n",
    "                         'f1': cv_recall.mean()},index=[0])\n",
    "    \n",
    "    return cv_merics"
   ]
  },
  {
   "cell_type": "code",
   "execution_count": 72,
   "metadata": {},
   "outputs": [
    {
     "name": "stdout",
     "output_type": "stream",
     "text": [
      "Cross Validaion accuracy Scores: [0.81791045 0.80179104 0.90083632 0.92413381 0.91218638]\n",
      "Cross Validation accuracy Mean Score: 0.8713716007774746\n",
      "Cross Validaion precision Scores: [0.86438356 0.84848485 0.88518944 0.88586957 0.86780384]\n",
      "Cross Validation precision Mean Score: 0.8703462501454823\n",
      "Cross Validaion recall Scores: [0.75388292 0.73508353 0.92114695 0.97371565 0.97252091]\n",
      "Cross Validation recall Mean Score: 0.8712699919875222\n",
      "Cross Validaion f1 Scores: [0.80536056 0.78772379 0.9028103  0.9277177  0.9171831 ]\n",
      "Cross Validation f1 Mean Score: 0.8681590900832294\n"
     ]
    }
   ],
   "source": [
    "cv_merics_lr = get_cv_score(lr, X_train_q, y_train_sm, cv=5)"
   ]
  },
  {
   "cell_type": "code",
   "execution_count": 73,
   "metadata": {},
   "outputs": [
    {
     "data": {
      "text/html": [
       "<div>\n",
       "<style scoped>\n",
       "    .dataframe tbody tr th:only-of-type {\n",
       "        vertical-align: middle;\n",
       "    }\n",
       "\n",
       "    .dataframe tbody tr th {\n",
       "        vertical-align: top;\n",
       "    }\n",
       "\n",
       "    .dataframe thead th {\n",
       "        text-align: right;\n",
       "    }\n",
       "</style>\n",
       "<table border=\"1\" class=\"dataframe\">\n",
       "  <thead>\n",
       "    <tr style=\"text-align: right;\">\n",
       "      <th></th>\n",
       "      <th>Accuracy</th>\n",
       "      <th>Precision</th>\n",
       "      <th>Recall</th>\n",
       "      <th>f1</th>\n",
       "    </tr>\n",
       "  </thead>\n",
       "  <tbody>\n",
       "    <tr>\n",
       "      <th>0</th>\n",
       "      <td>0.871372</td>\n",
       "      <td>0.870346</td>\n",
       "      <td>0.87127</td>\n",
       "      <td>0.87127</td>\n",
       "    </tr>\n",
       "  </tbody>\n",
       "</table>\n",
       "</div>"
      ],
      "text/plain": [
       "   Accuracy  Precision   Recall       f1\n",
       "0  0.871372   0.870346  0.87127  0.87127"
      ]
     },
     "execution_count": 73,
     "metadata": {},
     "output_type": "execute_result"
    }
   ],
   "source": [
    "cv_merics_lr"
   ]
  },
  {
   "cell_type": "code",
   "execution_count": 74,
   "metadata": {},
   "outputs": [],
   "source": [
    "#Predict on the test data\n",
    "p1 = lr.predict(X_test_q)"
   ]
  },
  {
   "cell_type": "code",
   "execution_count": 75,
   "metadata": {},
   "outputs": [
    {
     "data": {
      "text/html": [
       "<div>\n",
       "<style scoped>\n",
       "    .dataframe tbody tr th:only-of-type {\n",
       "        vertical-align: middle;\n",
       "    }\n",
       "\n",
       "    .dataframe tbody tr th {\n",
       "        vertical-align: top;\n",
       "    }\n",
       "\n",
       "    .dataframe thead th {\n",
       "        text-align: right;\n",
       "    }\n",
       "</style>\n",
       "<table border=\"1\" class=\"dataframe\">\n",
       "  <thead>\n",
       "    <tr style=\"text-align: right;\">\n",
       "      <th></th>\n",
       "      <th>y_pred</th>\n",
       "      <th>P1</th>\n",
       "    </tr>\n",
       "  </thead>\n",
       "  <tbody>\n",
       "    <tr>\n",
       "      <th>0</th>\n",
       "      <td>0</td>\n",
       "      <td>0</td>\n",
       "    </tr>\n",
       "    <tr>\n",
       "      <th>1</th>\n",
       "      <td>1</td>\n",
       "      <td>1</td>\n",
       "    </tr>\n",
       "    <tr>\n",
       "      <th>2</th>\n",
       "      <td>0</td>\n",
       "      <td>0</td>\n",
       "    </tr>\n",
       "    <tr>\n",
       "      <th>3</th>\n",
       "      <td>0</td>\n",
       "      <td>0</td>\n",
       "    </tr>\n",
       "    <tr>\n",
       "      <th>4</th>\n",
       "      <td>0</td>\n",
       "      <td>0</td>\n",
       "    </tr>\n",
       "    <tr>\n",
       "      <th>...</th>\n",
       "      <td>...</td>\n",
       "      <td>...</td>\n",
       "    </tr>\n",
       "    <tr>\n",
       "      <th>3527</th>\n",
       "      <td>1</td>\n",
       "      <td>1</td>\n",
       "    </tr>\n",
       "    <tr>\n",
       "      <th>3528</th>\n",
       "      <td>1</td>\n",
       "      <td>1</td>\n",
       "    </tr>\n",
       "    <tr>\n",
       "      <th>3529</th>\n",
       "      <td>1</td>\n",
       "      <td>1</td>\n",
       "    </tr>\n",
       "    <tr>\n",
       "      <th>3530</th>\n",
       "      <td>1</td>\n",
       "      <td>1</td>\n",
       "    </tr>\n",
       "    <tr>\n",
       "      <th>3531</th>\n",
       "      <td>1</td>\n",
       "      <td>1</td>\n",
       "    </tr>\n",
       "  </tbody>\n",
       "</table>\n",
       "<p>3532 rows × 2 columns</p>\n",
       "</div>"
      ],
      "text/plain": [
       "      y_pred  P1\n",
       "0          0   0\n",
       "1          1   1\n",
       "2          0   0\n",
       "3          0   0\n",
       "4          0   0\n",
       "...      ...  ..\n",
       "3527       1   1\n",
       "3528       1   1\n",
       "3529       1   1\n",
       "3530       1   1\n",
       "3531       1   1\n",
       "\n",
       "[3532 rows x 2 columns]"
      ]
     },
     "execution_count": 75,
     "metadata": {},
     "output_type": "execute_result"
    }
   ],
   "source": [
    "pd.DataFrame({'y_pred':lr_pred,'P1':p1})"
   ]
  },
  {
   "cell_type": "code",
   "execution_count": 76,
   "metadata": {},
   "outputs": [
    {
     "name": "stdout",
     "output_type": "stream",
     "text": [
      "Train Accuracy - : 0.876\n",
      "Test Accuracy - : 0.875\n"
     ]
    }
   ],
   "source": [
    "print(f'Train Accuracy - : {lr.score(X_train_q,y_train_sm):.3f}')\n",
    "print(f'Test Accuracy - : {lr.score(X_test_q,y_test_sm):.3f}')"
   ]
  },
  {
   "cell_type": "markdown",
   "metadata": {},
   "source": [
    "### Decision Tree"
   ]
  },
  {
   "cell_type": "code",
   "execution_count": 77,
   "metadata": {},
   "outputs": [],
   "source": [
    "from sklearn import tree\n",
    "from sklearn.tree import DecisionTreeClassifier\n",
    "dt = tree.DecisionTreeClassifier() "
   ]
  },
  {
   "cell_type": "code",
   "execution_count": 78,
   "metadata": {},
   "outputs": [
    {
     "data": {
      "text/plain": [
       "DecisionTreeClassifier()"
      ]
     },
     "execution_count": 78,
     "metadata": {},
     "output_type": "execute_result"
    }
   ],
   "source": [
    "y_train_sm = y_train_sm.astype(np.number)\n",
    "dt.fit(X_train_q,y_train_sm)"
   ]
  },
  {
   "cell_type": "code",
   "execution_count": 79,
   "metadata": {},
   "outputs": [
    {
     "data": {
      "text/plain": [
       "array([0., 1., 0., 0., 0.])"
      ]
     },
     "execution_count": 79,
     "metadata": {},
     "output_type": "execute_result"
    }
   ],
   "source": [
    "dt_pred = dt.predict(X_test_q)\n",
    "dt_pred[0:5]"
   ]
  },
  {
   "cell_type": "code",
   "execution_count": 80,
   "metadata": {},
   "outputs": [],
   "source": [
    "dt_pred = dt_pred.astype(np.number)\n",
    "y_test_sm = y_test_sm.astype(np.number)"
   ]
  },
  {
   "cell_type": "code",
   "execution_count": 81,
   "metadata": {},
   "outputs": [
    {
     "data": {
      "text/plain": [
       "0.8190826727066818"
      ]
     },
     "execution_count": 81,
     "metadata": {},
     "output_type": "execute_result"
    }
   ],
   "source": [
    "dt_acc_score = metrics.accuracy_score(y_test_sm, dt_pred)\n",
    "dt_acc_score"
   ]
  },
  {
   "cell_type": "code",
   "execution_count": 82,
   "metadata": {},
   "outputs": [
    {
     "name": "stdout",
     "output_type": "stream",
     "text": [
      "[[1467  299]\n",
      " [ 340 1426]]\n",
      "              precision    recall  f1-score   support\n",
      "\n",
      "         0.0       0.81      0.83      0.82      1766\n",
      "         1.0       0.83      0.81      0.82      1766\n",
      "\n",
      "    accuracy                           0.82      3532\n",
      "   macro avg       0.82      0.82      0.82      3532\n",
      "weighted avg       0.82      0.82      0.82      3532\n",
      "\n"
     ]
    }
   ],
   "source": [
    "print(confusion_matrix(y_test_sm, dt_pred))\n",
    "print(classification_report(y_test_sm, dt_pred))"
   ]
  },
  {
   "cell_type": "markdown",
   "metadata": {},
   "source": [
    "### Hyperparameter Tuning Decision Tree"
   ]
  },
  {
   "cell_type": "code",
   "execution_count": 83,
   "metadata": {},
   "outputs": [
    {
     "name": "stdout",
     "output_type": "stream",
     "text": [
      "Best parameters:\n",
      "{'criterion': 'entropy', 'max_depth': None, 'max_features': 7, 'min_samples_split': 10}\n"
     ]
    }
   ],
   "source": [
    "from sklearn.tree import DecisionTreeClassifier\n",
    "\n",
    "param_dist = {'max_depth': [3,None],\n",
    "              'max_features': sp_randint(1,11),\n",
    "              'min_samples_split': sp_randint(2,11),\n",
    "              'criterion': ['gini','entropy']}\n",
    "\n",
    "random_search =  RandomizedSearchCV(dt, param_distributions = param_dist, cv = 5 )\n",
    "\n",
    "random_search.fit(X_train_q, y_train_sm)\n",
    "\n",
    "print(\"Best parameters:\")\n",
    "print(random_search.best_params_)"
   ]
  },
  {
   "cell_type": "code",
   "execution_count": 84,
   "metadata": {},
   "outputs": [],
   "source": [
    "dt_model = DecisionTreeClassifier(**random_search.best_params_)\n",
    "dt_model.fit(X_train_q, y_train_sm)\n",
    "dt_ypred = dt_model.predict(X_test_q)"
   ]
  },
  {
   "cell_type": "code",
   "execution_count": 85,
   "metadata": {},
   "outputs": [
    {
     "data": {
      "text/plain": [
       "0.8221970554926388"
      ]
     },
     "execution_count": 85,
     "metadata": {},
     "output_type": "execute_result"
    }
   ],
   "source": [
    "dt_model_acc_score = metrics.accuracy_score(y_test_sm, dt_ypred)\n",
    "dt_model_acc_score"
   ]
  },
  {
   "cell_type": "code",
   "execution_count": 86,
   "metadata": {},
   "outputs": [
    {
     "data": {
      "text/plain": [
       "<sklearn.metrics._plot.confusion_matrix.ConfusionMatrixDisplay at 0x1dda6554790>"
      ]
     },
     "execution_count": 86,
     "metadata": {},
     "output_type": "execute_result"
    },
    {
     "data": {
      "image/png": "[encoded data removed]",
      "text/plain": [
       "<Figure size 432x288 with 2 Axes>"
      ]
     },
     "metadata": {
      "needs_background": "light"
     },
     "output_type": "display_data"
    }
   ],
   "source": [
    "plot_confusion_matrix(dt_model, X_test_q,y_test_sm)"
   ]
  },
  {
   "cell_type": "code",
   "execution_count": 87,
   "metadata": {},
   "outputs": [
    {
     "data": {
      "text/plain": [
       "<sklearn.metrics._plot.roc_curve.RocCurveDisplay at 0x1dda5f7e190>"
      ]
     },
     "execution_count": 87,
     "metadata": {},
     "output_type": "execute_result"
    },
    {
     "data": {
      "image/png": "[encoded data removed]",
      "text/plain": [
       "<Figure size 432x288 with 1 Axes>"
      ]
     },
     "metadata": {
      "needs_background": "light"
     },
     "output_type": "display_data"
    }
   ],
   "source": [
    "plot_roc_curve(dt_model, X_test_q,y_test_sm)"
   ]
  },
  {
   "cell_type": "code",
   "execution_count": 88,
   "metadata": {},
   "outputs": [],
   "source": [
    "def get_cv_score(dt_model, X, y, cv=5):\n",
    "    \n",
    "    \n",
    "    cv_accuracy = cross_val_score(dt_model,X,y,cv=cv,\n",
    "                         scoring='accuracy')\n",
    "    print(f'Cross Validaion accuracy Scores: {cv_accuracy}')\n",
    "    print(f'Cross Validation accuracy Mean Score: {cv_accuracy.mean()}')\n",
    "    \n",
    "    cv_precision = cross_val_score(dt_model,X,y,cv=cv,\n",
    "                         scoring='precision')\n",
    "    print(f'Cross Validaion precision Scores: {cv_precision}')\n",
    "    print(f'Cross Validation precision Mean Score: {cv_precision.mean()}')\n",
    "    \n",
    "    cv_recall = cross_val_score(dt_model,X,y,cv=cv,\n",
    "                         scoring='recall')\n",
    "    print(f'Cross Validaion recall Scores: {cv_recall}')\n",
    "    print(f'Cross Validation recall Mean Score: {cv_recall.mean()}')\n",
    "    \n",
    "    cv_f1 = cross_val_score(dt_model,X,y,cv=cv,\n",
    "                         scoring='f1')\n",
    "    print(f'Cross Validaion f1 Scores: {cv_f1}')\n",
    "    print(f'Cross Validation f1 Mean Score: {cv_f1.mean()}')   \n",
    "    \n",
    "    cv_merics = pd.DataFrame({'Accuracy': cv_accuracy.mean(),\n",
    "                         'Precision': cv_precision.mean(),\n",
    "                         'Recall': cv_recall.mean(),\n",
    "                         'f1': cv_recall.mean()},index=[0])\n",
    "    \n",
    "    return cv_merics\n"
   ]
  },
  {
   "cell_type": "code",
   "execution_count": 89,
   "metadata": {},
   "outputs": [
    {
     "name": "stdout",
     "output_type": "stream",
     "text": [
      "Cross Validaion accuracy Scores: [0.75104478 0.76238806 0.8572282  0.89187575 0.88052569]\n",
      "Cross Validation accuracy Mean Score: 0.828612493090105\n",
      "Cross Validaion precision Scores: [0.80827586 0.82944606 0.8549346  0.85217391 0.8423913 ]\n",
      "Cross Validation precision Mean Score: 0.8374443490529793\n",
      "Cross Validaion recall Scores: [0.71326165 0.71360382 0.85902031 0.90681004 0.92473118]\n",
      "Cross Validation recall Mean Score: 0.8234853993264956\n",
      "Cross Validaion f1 Scores: [0.75080489 0.73464052 0.84924925 0.89674843 0.89555684]\n",
      "Cross Validation f1 Mean Score: 0.8253999869986443\n"
     ]
    }
   ],
   "source": [
    "cv_merics_dt = get_cv_score(dt_model, X_train_q, y_train_sm, cv=5)"
   ]
  },
  {
   "cell_type": "code",
   "execution_count": 90,
   "metadata": {},
   "outputs": [
    {
     "data": {
      "text/html": [
       "<div>\n",
       "<style scoped>\n",
       "    .dataframe tbody tr th:only-of-type {\n",
       "        vertical-align: middle;\n",
       "    }\n",
       "\n",
       "    .dataframe tbody tr th {\n",
       "        vertical-align: top;\n",
       "    }\n",
       "\n",
       "    .dataframe thead th {\n",
       "        text-align: right;\n",
       "    }\n",
       "</style>\n",
       "<table border=\"1\" class=\"dataframe\">\n",
       "  <thead>\n",
       "    <tr style=\"text-align: right;\">\n",
       "      <th></th>\n",
       "      <th>Accuracy</th>\n",
       "      <th>Precision</th>\n",
       "      <th>Recall</th>\n",
       "      <th>f1</th>\n",
       "    </tr>\n",
       "  </thead>\n",
       "  <tbody>\n",
       "    <tr>\n",
       "      <th>0</th>\n",
       "      <td>0.828612</td>\n",
       "      <td>0.837444</td>\n",
       "      <td>0.823485</td>\n",
       "      <td>0.823485</td>\n",
       "    </tr>\n",
       "  </tbody>\n",
       "</table>\n",
       "</div>"
      ],
      "text/plain": [
       "   Accuracy  Precision    Recall        f1\n",
       "0  0.828612   0.837444  0.823485  0.823485"
      ]
     },
     "execution_count": 90,
     "metadata": {},
     "output_type": "execute_result"
    }
   ],
   "source": [
    "cv_merics_dt"
   ]
  },
  {
   "cell_type": "code",
   "execution_count": 91,
   "metadata": {},
   "outputs": [
    {
     "data": {
      "text/html": [
       "<div>\n",
       "<style scoped>\n",
       "    .dataframe tbody tr th:only-of-type {\n",
       "        vertical-align: middle;\n",
       "    }\n",
       "\n",
       "    .dataframe tbody tr th {\n",
       "        vertical-align: top;\n",
       "    }\n",
       "\n",
       "    .dataframe thead th {\n",
       "        text-align: right;\n",
       "    }\n",
       "</style>\n",
       "<table border=\"1\" class=\"dataframe\">\n",
       "  <thead>\n",
       "    <tr style=\"text-align: right;\">\n",
       "      <th></th>\n",
       "      <th>y_pred</th>\n",
       "      <th>P1</th>\n",
       "    </tr>\n",
       "  </thead>\n",
       "  <tbody>\n",
       "    <tr>\n",
       "      <th>0</th>\n",
       "      <td>0.0</td>\n",
       "      <td>0.0</td>\n",
       "    </tr>\n",
       "    <tr>\n",
       "      <th>1</th>\n",
       "      <td>1.0</td>\n",
       "      <td>1.0</td>\n",
       "    </tr>\n",
       "    <tr>\n",
       "      <th>2</th>\n",
       "      <td>0.0</td>\n",
       "      <td>0.0</td>\n",
       "    </tr>\n",
       "    <tr>\n",
       "      <th>3</th>\n",
       "      <td>0.0</td>\n",
       "      <td>0.0</td>\n",
       "    </tr>\n",
       "    <tr>\n",
       "      <th>4</th>\n",
       "      <td>0.0</td>\n",
       "      <td>0.0</td>\n",
       "    </tr>\n",
       "    <tr>\n",
       "      <th>...</th>\n",
       "      <td>...</td>\n",
       "      <td>...</td>\n",
       "    </tr>\n",
       "    <tr>\n",
       "      <th>3527</th>\n",
       "      <td>1.0</td>\n",
       "      <td>1.0</td>\n",
       "    </tr>\n",
       "    <tr>\n",
       "      <th>3528</th>\n",
       "      <td>1.0</td>\n",
       "      <td>1.0</td>\n",
       "    </tr>\n",
       "    <tr>\n",
       "      <th>3529</th>\n",
       "      <td>1.0</td>\n",
       "      <td>1.0</td>\n",
       "    </tr>\n",
       "    <tr>\n",
       "      <th>3530</th>\n",
       "      <td>1.0</td>\n",
       "      <td>1.0</td>\n",
       "    </tr>\n",
       "    <tr>\n",
       "      <th>3531</th>\n",
       "      <td>0.0</td>\n",
       "      <td>0.0</td>\n",
       "    </tr>\n",
       "  </tbody>\n",
       "</table>\n",
       "<p>3532 rows × 2 columns</p>\n",
       "</div>"
      ],
      "text/plain": [
       "      y_pred   P1\n",
       "0        0.0  0.0\n",
       "1        1.0  1.0\n",
       "2        0.0  0.0\n",
       "3        0.0  0.0\n",
       "4        0.0  0.0\n",
       "...      ...  ...\n",
       "3527     1.0  1.0\n",
       "3528     1.0  1.0\n",
       "3529     1.0  1.0\n",
       "3530     1.0  1.0\n",
       "3531     0.0  0.0\n",
       "\n",
       "[3532 rows x 2 columns]"
      ]
     },
     "execution_count": 91,
     "metadata": {},
     "output_type": "execute_result"
    }
   ],
   "source": [
    "#Predict on the test data\n",
    "p1 = dt_model.predict(X_test_q)\n",
    "\n",
    "pd.DataFrame({'y_pred':dt_ypred,'P1':p1})"
   ]
  },
  {
   "cell_type": "code",
   "execution_count": 92,
   "metadata": {},
   "outputs": [
    {
     "name": "stdout",
     "output_type": "stream",
     "text": [
      "Train Accuracy - : 0.927\n",
      "Test Accuracy - : 0.822\n"
     ]
    }
   ],
   "source": [
    "print(f'Train Accuracy - : {dt_model.score(X_train_q,y_train_sm):.3f}')\n",
    "print(f'Test Accuracy - : {dt_model.score(X_test_q,y_test_sm):.3f}')"
   ]
  },
  {
   "cell_type": "markdown",
   "metadata": {},
   "source": [
    "### Random Forest"
   ]
  },
  {
   "cell_type": "code",
   "execution_count": 93,
   "metadata": {},
   "outputs": [
    {
     "data": {
      "text/plain": [
       "RandomForestClassifier()"
      ]
     },
     "execution_count": 93,
     "metadata": {},
     "output_type": "execute_result"
    }
   ],
   "source": [
    "from sklearn.ensemble import RandomForestClassifier\n",
    "rf = RandomForestClassifier()\n",
    "rf.fit(X_train_q,y_train_sm)"
   ]
  },
  {
   "cell_type": "code",
   "execution_count": 94,
   "metadata": {},
   "outputs": [],
   "source": [
    "rf_pred = rf.predict(X_test_q)"
   ]
  },
  {
   "cell_type": "code",
   "execution_count": 95,
   "metadata": {},
   "outputs": [
    {
     "data": {
      "text/plain": [
       "0.855039637599094"
      ]
     },
     "execution_count": 95,
     "metadata": {},
     "output_type": "execute_result"
    }
   ],
   "source": [
    "rf_acc_score = metrics.accuracy_score(y_test_sm, rf_pred)\n",
    "rf_acc_score"
   ]
  },
  {
   "cell_type": "code",
   "execution_count": 96,
   "metadata": {},
   "outputs": [
    {
     "name": "stdout",
     "output_type": "stream",
     "text": [
      "[[1541  225]\n",
      " [ 287 1479]]\n",
      "              precision    recall  f1-score   support\n",
      "\n",
      "         0.0       0.84      0.87      0.86      1766\n",
      "         1.0       0.87      0.84      0.85      1766\n",
      "\n",
      "    accuracy                           0.86      3532\n",
      "   macro avg       0.86      0.86      0.85      3532\n",
      "weighted avg       0.86      0.86      0.85      3532\n",
      "\n"
     ]
    }
   ],
   "source": [
    "print(confusion_matrix(y_test_sm, rf_pred))\n",
    "print(classification_report(y_test_sm, rf_pred))"
   ]
  },
  {
   "cell_type": "markdown",
   "metadata": {},
   "source": [
    "### Hyperparameter Tuning Random Forest"
   ]
  },
  {
   "cell_type": "code",
   "execution_count": 97,
   "metadata": {},
   "outputs": [],
   "source": [
    "param_dist = {'n_estimators': [100,150,250],\n",
    "              'max_depth': [3,None],\n",
    "              'max_features': sp_randint(1,11),\n",
    "              'min_samples_split': sp_randint(2,11),\n",
    "              'bootstrap' :[True,False],\n",
    "              'criterion': ['gini','entropy']} "
   ]
  },
  {
   "cell_type": "code",
   "execution_count": 98,
   "metadata": {},
   "outputs": [
    {
     "name": "stdout",
     "output_type": "stream",
     "text": [
      "Best parameters:\n",
      "{'bootstrap': False, 'criterion': 'gini', 'max_depth': None, 'max_features': 5, 'min_samples_split': 9, 'n_estimators': 250}\n"
     ]
    }
   ],
   "source": [
    "random_search =  RandomizedSearchCV(rf, param_distributions = param_dist, cv = 5 )\n",
    "\n",
    "random_search.fit(X_train_q, y_train_sm)\n",
    "\n",
    "print(\"Best parameters:\")\n",
    "print(random_search.best_params_)"
   ]
  },
  {
   "cell_type": "code",
   "execution_count": 99,
   "metadata": {},
   "outputs": [],
   "source": [
    "rf_model = RandomForestClassifier(**random_search.best_params_)\n",
    "rf_model.fit(X_train_q, y_train_sm)\n",
    "rf_ypred = rf_model.predict(X_test_q)"
   ]
  },
  {
   "cell_type": "code",
   "execution_count": 100,
   "metadata": {},
   "outputs": [
    {
     "data": {
      "text/plain": [
       "0.863533408833522"
      ]
     },
     "execution_count": 100,
     "metadata": {},
     "output_type": "execute_result"
    }
   ],
   "source": [
    "rf_model_acc_score = metrics.accuracy_score(y_test_sm, rf_ypred)\n",
    "rf_model_acc_score"
   ]
  },
  {
   "cell_type": "code",
   "execution_count": 101,
   "metadata": {},
   "outputs": [
    {
     "data": {
      "text/plain": [
       "<sklearn.metrics._plot.confusion_matrix.ConfusionMatrixDisplay at 0x1dda5f7e070>"
      ]
     },
     "execution_count": 101,
     "metadata": {},
     "output_type": "execute_result"
    },
    {
     "data": {
      "image/png": "[encoded data removed]",
      "text/plain": [
       "<Figure size 432x288 with 2 Axes>"
      ]
     },
     "metadata": {
      "needs_background": "light"
     },
     "output_type": "display_data"
    }
   ],
   "source": [
    "plot_confusion_matrix(rf_model, X_test_q,y_test_sm)"
   ]
  },
  {
   "cell_type": "code",
   "execution_count": 102,
   "metadata": {},
   "outputs": [
    {
     "data": {
      "text/plain": [
       "<sklearn.metrics._plot.roc_curve.RocCurveDisplay at 0x1dda6957910>"
      ]
     },
     "execution_count": 102,
     "metadata": {},
     "output_type": "execute_result"
    },
    {
     "data": {
      "image/png": "[encoded data removed]",
      "text/plain": [
       "<Figure size 432x288 with 1 Axes>"
      ]
     },
     "metadata": {
      "needs_background": "light"
     },
     "output_type": "display_data"
    }
   ],
   "source": [
    "plot_roc_curve(rf_model, X_test_q,y_test_sm)"
   ]
  },
  {
   "cell_type": "code",
   "execution_count": 103,
   "metadata": {},
   "outputs": [],
   "source": [
    "def get_cv_score(dt_model, X, y, cv=5):\n",
    "    \n",
    "    \n",
    "    cv_accuracy = cross_val_score(rf_model,X,y,cv=cv,\n",
    "                         scoring='accuracy')\n",
    "    print(f'Cross Validaion accuracy Scores: {cv_accuracy}')\n",
    "    print(f'Cross Validation accuracy Mean Score: {cv_accuracy.mean()}')\n",
    "    \n",
    "    cv_precision = cross_val_score(rf_model,X,y,cv=cv,\n",
    "                         scoring='precision')\n",
    "    print(f'Cross Validaion precision Scores: {cv_precision}')\n",
    "    print(f'Cross Validation precision Mean Score: {cv_precision.mean()}')\n",
    "    \n",
    "    cv_recall = cross_val_score(rf_model,X,y,cv=cv,\n",
    "                         scoring='recall')\n",
    "    print(f'Cross Validaion recall Scores: {cv_recall}')\n",
    "    print(f'Cross Validation recall Mean Score: {cv_recall.mean()}')\n",
    "    \n",
    "    cv_f1 = cross_val_score(rf_model,X,y,cv=cv,\n",
    "                         scoring='f1')\n",
    "    print(f'Cross Validaion f1 Scores: {cv_f1}')\n",
    "    print(f'Cross Validation f1 Mean Score: {cv_f1.mean()}')   \n",
    "    \n",
    "    cv_merics = pd.DataFrame({'Accuracy': cv_accuracy.mean(),\n",
    "                         'Precision': cv_precision.mean(),\n",
    "                         'Recall': cv_recall.mean(),\n",
    "                         'f1': cv_recall.mean()},index=[0])\n",
    "    \n",
    "    return cv_merics"
   ]
  },
  {
   "cell_type": "code",
   "execution_count": 104,
   "metadata": {},
   "outputs": [
    {
     "name": "stdout",
     "output_type": "stream",
     "text": [
      "Cross Validaion accuracy Scores: [0.81253731 0.79641791 0.90083632 0.93727599 0.92771804]\n",
      "Cross Validation accuracy Mean Score: 0.8749571140712209\n",
      "Cross Validaion precision Scores: [0.85874126 0.83584131 0.89541716 0.89354839 0.87711864]\n",
      "Cross Validation precision Mean Score: 0.8721333518924089\n",
      "Cross Validaion recall Scores: [0.73596177 0.73389021 0.91158901 0.9916368  0.9916368 ]\n",
      "Cross Validation recall Mean Score: 0.8729429175113985\n",
      "Cross Validaion f1 Scores: [0.79564382 0.78039465 0.90112493 0.94057725 0.93093768]\n",
      "Cross Validation f1 Mean Score: 0.8697356644366068\n"
     ]
    }
   ],
   "source": [
    "cv_merics_rf = get_cv_score(rf_model, X_train_q, y_train_sm, cv=5)"
   ]
  },
  {
   "cell_type": "code",
   "execution_count": 105,
   "metadata": {},
   "outputs": [
    {
     "data": {
      "text/html": [
       "<div>\n",
       "<style scoped>\n",
       "    .dataframe tbody tr th:only-of-type {\n",
       "        vertical-align: middle;\n",
       "    }\n",
       "\n",
       "    .dataframe tbody tr th {\n",
       "        vertical-align: top;\n",
       "    }\n",
       "\n",
       "    .dataframe thead th {\n",
       "        text-align: right;\n",
       "    }\n",
       "</style>\n",
       "<table border=\"1\" class=\"dataframe\">\n",
       "  <thead>\n",
       "    <tr style=\"text-align: right;\">\n",
       "      <th></th>\n",
       "      <th>Accuracy</th>\n",
       "      <th>Precision</th>\n",
       "      <th>Recall</th>\n",
       "      <th>f1</th>\n",
       "    </tr>\n",
       "  </thead>\n",
       "  <tbody>\n",
       "    <tr>\n",
       "      <th>0</th>\n",
       "      <td>0.874957</td>\n",
       "      <td>0.872133</td>\n",
       "      <td>0.872943</td>\n",
       "      <td>0.872943</td>\n",
       "    </tr>\n",
       "  </tbody>\n",
       "</table>\n",
       "</div>"
      ],
      "text/plain": [
       "   Accuracy  Precision    Recall        f1\n",
       "0  0.874957   0.872133  0.872943  0.872943"
      ]
     },
     "execution_count": 105,
     "metadata": {},
     "output_type": "execute_result"
    }
   ],
   "source": [
    "cv_merics_rf"
   ]
  },
  {
   "cell_type": "code",
   "execution_count": 106,
   "metadata": {},
   "outputs": [
    {
     "data": {
      "text/html": [
       "<div>\n",
       "<style scoped>\n",
       "    .dataframe tbody tr th:only-of-type {\n",
       "        vertical-align: middle;\n",
       "    }\n",
       "\n",
       "    .dataframe tbody tr th {\n",
       "        vertical-align: top;\n",
       "    }\n",
       "\n",
       "    .dataframe thead th {\n",
       "        text-align: right;\n",
       "    }\n",
       "</style>\n",
       "<table border=\"1\" class=\"dataframe\">\n",
       "  <thead>\n",
       "    <tr style=\"text-align: right;\">\n",
       "      <th></th>\n",
       "      <th>y_pred</th>\n",
       "      <th>P1</th>\n",
       "    </tr>\n",
       "  </thead>\n",
       "  <tbody>\n",
       "    <tr>\n",
       "      <th>0</th>\n",
       "      <td>0.0</td>\n",
       "      <td>0.0</td>\n",
       "    </tr>\n",
       "    <tr>\n",
       "      <th>1</th>\n",
       "      <td>1.0</td>\n",
       "      <td>1.0</td>\n",
       "    </tr>\n",
       "    <tr>\n",
       "      <th>2</th>\n",
       "      <td>0.0</td>\n",
       "      <td>0.0</td>\n",
       "    </tr>\n",
       "    <tr>\n",
       "      <th>3</th>\n",
       "      <td>0.0</td>\n",
       "      <td>0.0</td>\n",
       "    </tr>\n",
       "    <tr>\n",
       "      <th>4</th>\n",
       "      <td>0.0</td>\n",
       "      <td>0.0</td>\n",
       "    </tr>\n",
       "    <tr>\n",
       "      <th>...</th>\n",
       "      <td>...</td>\n",
       "      <td>...</td>\n",
       "    </tr>\n",
       "    <tr>\n",
       "      <th>3527</th>\n",
       "      <td>1.0</td>\n",
       "      <td>1.0</td>\n",
       "    </tr>\n",
       "    <tr>\n",
       "      <th>3528</th>\n",
       "      <td>1.0</td>\n",
       "      <td>1.0</td>\n",
       "    </tr>\n",
       "    <tr>\n",
       "      <th>3529</th>\n",
       "      <td>1.0</td>\n",
       "      <td>1.0</td>\n",
       "    </tr>\n",
       "    <tr>\n",
       "      <th>3530</th>\n",
       "      <td>1.0</td>\n",
       "      <td>1.0</td>\n",
       "    </tr>\n",
       "    <tr>\n",
       "      <th>3531</th>\n",
       "      <td>1.0</td>\n",
       "      <td>1.0</td>\n",
       "    </tr>\n",
       "  </tbody>\n",
       "</table>\n",
       "<p>3532 rows × 2 columns</p>\n",
       "</div>"
      ],
      "text/plain": [
       "      y_pred   P1\n",
       "0        0.0  0.0\n",
       "1        1.0  1.0\n",
       "2        0.0  0.0\n",
       "3        0.0  0.0\n",
       "4        0.0  0.0\n",
       "...      ...  ...\n",
       "3527     1.0  1.0\n",
       "3528     1.0  1.0\n",
       "3529     1.0  1.0\n",
       "3530     1.0  1.0\n",
       "3531     1.0  1.0\n",
       "\n",
       "[3532 rows x 2 columns]"
      ]
     },
     "execution_count": 106,
     "metadata": {},
     "output_type": "execute_result"
    }
   ],
   "source": [
    "#Predict on the test data\n",
    "p1 = rf_model.predict(X_test_q)\n",
    "\n",
    "pd.DataFrame({'y_pred':rf_ypred,'P1':p1})"
   ]
  },
  {
   "cell_type": "code",
   "execution_count": 107,
   "metadata": {},
   "outputs": [
    {
     "name": "stdout",
     "output_type": "stream",
     "text": [
      "Train Accuracy - : 0.970\n",
      "Test Accuracy - : 0.864\n"
     ]
    }
   ],
   "source": [
    "print(f'Train Accuracy - : {rf_model.score(X_train_q,y_train_sm):.3f}')\n",
    "print(f'Test Accuracy - : {rf_model.score(X_test_q,y_test_sm):.3f}')"
   ]
  },
  {
   "cell_type": "markdown",
   "metadata": {},
   "source": [
    "### SVM"
   ]
  },
  {
   "cell_type": "code",
   "execution_count": 108,
   "metadata": {},
   "outputs": [
    {
     "data": {
      "text/plain": [
       "SVC()"
      ]
     },
     "execution_count": 108,
     "metadata": {},
     "output_type": "execute_result"
    }
   ],
   "source": [
    "from sklearn.svm import SVC\n",
    "svclassifier = SVC()\n",
    "\n",
    "svclassifier.fit(X_train_q, y_train_sm)"
   ]
  },
  {
   "cell_type": "code",
   "execution_count": 109,
   "metadata": {},
   "outputs": [],
   "source": [
    "svc_pred = svclassifier.predict(X_test_q)"
   ]
  },
  {
   "cell_type": "code",
   "execution_count": 110,
   "metadata": {},
   "outputs": [
    {
     "data": {
      "text/plain": [
       "0.8674971687429218"
      ]
     },
     "execution_count": 110,
     "metadata": {},
     "output_type": "execute_result"
    }
   ],
   "source": [
    "svc_acc_score = metrics.accuracy_score(y_test_sm, svc_pred)\n",
    "svc_acc_score"
   ]
  },
  {
   "cell_type": "code",
   "execution_count": 111,
   "metadata": {},
   "outputs": [
    {
     "name": "stdout",
     "output_type": "stream",
     "text": [
      "[[1514  252]\n",
      " [ 216 1550]]\n",
      "              precision    recall  f1-score   support\n",
      "\n",
      "         0.0       0.88      0.86      0.87      1766\n",
      "         1.0       0.86      0.88      0.87      1766\n",
      "\n",
      "    accuracy                           0.87      3532\n",
      "   macro avg       0.87      0.87      0.87      3532\n",
      "weighted avg       0.87      0.87      0.87      3532\n",
      "\n"
     ]
    }
   ],
   "source": [
    "print(confusion_matrix(y_test_sm, svc_pred))\n",
    "print(classification_report(y_test_sm, svc_pred))"
   ]
  },
  {
   "cell_type": "markdown",
   "metadata": {},
   "source": [
    "### Hyperparameter Tuning SVM"
   ]
  },
  {
   "cell_type": "code",
   "execution_count": 112,
   "metadata": {},
   "outputs": [],
   "source": [
    "# defining parameter range\n",
    "param_dist = {'C': [0.01, 0.1, 1], \n",
    "              'gamma': [0.1, 0.2, 0.3, 1],\n",
    "              'kernel': ['linear','rbf']} "
   ]
  },
  {
   "cell_type": "code",
   "execution_count": 113,
   "metadata": {},
   "outputs": [
    {
     "data": {
      "text/plain": [
       "RandomizedSearchCV(cv=5, estimator=SVC(),\n",
       "                   param_distributions={'C': [0.01, 0.1, 1],\n",
       "                                        'gamma': [0.1, 0.2, 0.3, 1],\n",
       "                                        'kernel': ['linear', 'rbf']})"
      ]
     },
     "execution_count": 113,
     "metadata": {},
     "output_type": "execute_result"
    }
   ],
   "source": [
    "random_search =  RandomizedSearchCV(svclassifier, param_distributions = param_dist, cv = 5 )\n",
    "\n",
    "random_search.fit(X_train_q, y_train_sm)"
   ]
  },
  {
   "cell_type": "code",
   "execution_count": 114,
   "metadata": {},
   "outputs": [
    {
     "name": "stdout",
     "output_type": "stream",
     "text": [
      "Best parameters:\n",
      "{'kernel': 'linear', 'gamma': 1, 'C': 1}\n"
     ]
    }
   ],
   "source": [
    "print(\"Best parameters:\")\n",
    "print(random_search.best_params_)"
   ]
  },
  {
   "cell_type": "code",
   "execution_count": 115,
   "metadata": {},
   "outputs": [],
   "source": [
    "svc_model = SVC(**random_search.best_params_)\n",
    "svc_model.fit(X_train_q, y_train_sm)\n",
    "svc_ypred = svc_model.predict(X_test_q)"
   ]
  },
  {
   "cell_type": "code",
   "execution_count": 116,
   "metadata": {},
   "outputs": [
    {
     "data": {
      "text/plain": [
       "0.8725934314835787"
      ]
     },
     "execution_count": 116,
     "metadata": {},
     "output_type": "execute_result"
    }
   ],
   "source": [
    "svc_model_acc_score = metrics.accuracy_score(y_test_sm, svc_ypred)\n",
    "svc_model_acc_score"
   ]
  },
  {
   "cell_type": "code",
   "execution_count": 117,
   "metadata": {},
   "outputs": [
    {
     "data": {
      "text/plain": [
       "<sklearn.metrics._plot.confusion_matrix.ConfusionMatrixDisplay at 0x1dda6a0bac0>"
      ]
     },
     "execution_count": 117,
     "metadata": {},
     "output_type": "execute_result"
    },
    {
     "data": {
      "image/png": "[encoded data removed]",
      "text/plain": [
       "<Figure size 432x288 with 2 Axes>"
      ]
     },
     "metadata": {
      "needs_background": "light"
     },
     "output_type": "display_data"
    }
   ],
   "source": [
    "plot_confusion_matrix(svc_model, X_test_q,y_test_sm)"
   ]
  },
  {
   "cell_type": "code",
   "execution_count": 118,
   "metadata": {},
   "outputs": [
    {
     "data": {
      "text/plain": [
       "<sklearn.metrics._plot.roc_curve.RocCurveDisplay at 0x1dda5df2ee0>"
      ]
     },
     "execution_count": 118,
     "metadata": {},
     "output_type": "execute_result"
    },
    {
     "data": {
      "image/png": "[encoded data removed]",
      "text/plain": [
       "<Figure size 432x288 with 1 Axes>"
      ]
     },
     "metadata": {
      "needs_background": "light"
     },
     "output_type": "display_data"
    }
   ],
   "source": [
    "plot_roc_curve(svc_model, X_test_q,y_test_sm)"
   ]
  },
  {
   "cell_type": "code",
   "execution_count": 119,
   "metadata": {},
   "outputs": [],
   "source": [
    "def get_cv_score(svc_model, X, y, cv=5):\n",
    "    \n",
    "    \n",
    "    cv_accuracy = cross_val_score(svc_model,X,y,cv=cv,\n",
    "                         scoring='accuracy')\n",
    "    print(f'Cross Validaion accuracy Scores: {cv_accuracy}')\n",
    "    print(f'Cross Validation accuracy Mean Score: {cv_accuracy.mean()}')\n",
    "    \n",
    "    cv_precision = cross_val_score(svc_model,X,y,cv=cv,\n",
    "                         scoring='precision')\n",
    "    print(f'Cross Validaion precision Scores: {cv_precision}')\n",
    "    print(f'Cross Validation precision Mean Score: {cv_precision.mean()}')\n",
    "    \n",
    "    cv_recall = cross_val_score(svc_model,X,y,cv=cv,\n",
    "                         scoring='recall')\n",
    "    print(f'Cross Validaion recall Scores: {cv_recall}')\n",
    "    print(f'Cross Validation recall Mean Score: {cv_recall.mean()}')\n",
    "    \n",
    "    cv_f1 = cross_val_score(svc_model,X,y,cv=cv,\n",
    "                         scoring='f1')\n",
    "    print(f'Cross Validaion f1 Scores: {cv_f1}')\n",
    "    print(f'Cross Validation f1 Mean Score: {cv_f1.mean()}')   \n",
    "    \n",
    "    cv_merics = pd.DataFrame({'Accuracy': cv_accuracy.mean(),\n",
    "                         'Precision': cv_precision.mean(),\n",
    "                         'Recall': cv_recall.mean(),\n",
    "                         'f1': cv_recall.mean()},index=[0])\n",
    "    \n",
    "    return cv_merics"
   ]
  },
  {
   "cell_type": "code",
   "execution_count": 120,
   "metadata": {},
   "outputs": [
    {
     "name": "stdout",
     "output_type": "stream",
     "text": [
      "Cross Validaion accuracy Scores: [0.81134328 0.80597015 0.90143369 0.92054958 0.90860215]\n",
      "Cross Validation accuracy Mean Score: 0.8695797713939264\n",
      "Cross Validaion precision Scores: [0.86433566 0.84709066 0.88443936 0.87849462 0.86228814]\n",
      "Cross Validation precision Mean Score: 0.867329689182144\n",
      "Cross Validaion recall Scores: [0.73835125 0.74701671 0.92353644 0.97610514 0.97252091]\n",
      "Cross Validation recall Mean Score: 0.8715060891979822\n",
      "Cross Validaion f1 Scores: [0.79639175 0.79391249 0.90356517 0.92473118 0.91409321]\n",
      "Cross Validation f1 Mean Score: 0.8665387600159684\n"
     ]
    }
   ],
   "source": [
    "cv_merics_svm = get_cv_score(svc_model, X_train_q, y_train_sm, cv=5)"
   ]
  },
  {
   "cell_type": "code",
   "execution_count": 121,
   "metadata": {},
   "outputs": [
    {
     "data": {
      "text/html": [
       "<div>\n",
       "<style scoped>\n",
       "    .dataframe tbody tr th:only-of-type {\n",
       "        vertical-align: middle;\n",
       "    }\n",
       "\n",
       "    .dataframe tbody tr th {\n",
       "        vertical-align: top;\n",
       "    }\n",
       "\n",
       "    .dataframe thead th {\n",
       "        text-align: right;\n",
       "    }\n",
       "</style>\n",
       "<table border=\"1\" class=\"dataframe\">\n",
       "  <thead>\n",
       "    <tr style=\"text-align: right;\">\n",
       "      <th></th>\n",
       "      <th>Accuracy</th>\n",
       "      <th>Precision</th>\n",
       "      <th>Recall</th>\n",
       "      <th>f1</th>\n",
       "    </tr>\n",
       "  </thead>\n",
       "  <tbody>\n",
       "    <tr>\n",
       "      <th>0</th>\n",
       "      <td>0.86958</td>\n",
       "      <td>0.86733</td>\n",
       "      <td>0.871506</td>\n",
       "      <td>0.871506</td>\n",
       "    </tr>\n",
       "  </tbody>\n",
       "</table>\n",
       "</div>"
      ],
      "text/plain": [
       "   Accuracy  Precision    Recall        f1\n",
       "0   0.86958    0.86733  0.871506  0.871506"
      ]
     },
     "execution_count": 121,
     "metadata": {},
     "output_type": "execute_result"
    }
   ],
   "source": [
    "cv_merics_svm"
   ]
  },
  {
   "cell_type": "code",
   "execution_count": 122,
   "metadata": {},
   "outputs": [
    {
     "data": {
      "text/html": [
       "<div>\n",
       "<style scoped>\n",
       "    .dataframe tbody tr th:only-of-type {\n",
       "        vertical-align: middle;\n",
       "    }\n",
       "\n",
       "    .dataframe tbody tr th {\n",
       "        vertical-align: top;\n",
       "    }\n",
       "\n",
       "    .dataframe thead th {\n",
       "        text-align: right;\n",
       "    }\n",
       "</style>\n",
       "<table border=\"1\" class=\"dataframe\">\n",
       "  <thead>\n",
       "    <tr style=\"text-align: right;\">\n",
       "      <th></th>\n",
       "      <th>y_pred</th>\n",
       "      <th>P1</th>\n",
       "    </tr>\n",
       "  </thead>\n",
       "  <tbody>\n",
       "    <tr>\n",
       "      <th>0</th>\n",
       "      <td>0.0</td>\n",
       "      <td>0.0</td>\n",
       "    </tr>\n",
       "    <tr>\n",
       "      <th>1</th>\n",
       "      <td>1.0</td>\n",
       "      <td>1.0</td>\n",
       "    </tr>\n",
       "    <tr>\n",
       "      <th>2</th>\n",
       "      <td>0.0</td>\n",
       "      <td>0.0</td>\n",
       "    </tr>\n",
       "    <tr>\n",
       "      <th>3</th>\n",
       "      <td>0.0</td>\n",
       "      <td>0.0</td>\n",
       "    </tr>\n",
       "    <tr>\n",
       "      <th>4</th>\n",
       "      <td>0.0</td>\n",
       "      <td>0.0</td>\n",
       "    </tr>\n",
       "    <tr>\n",
       "      <th>...</th>\n",
       "      <td>...</td>\n",
       "      <td>...</td>\n",
       "    </tr>\n",
       "    <tr>\n",
       "      <th>3527</th>\n",
       "      <td>1.0</td>\n",
       "      <td>1.0</td>\n",
       "    </tr>\n",
       "    <tr>\n",
       "      <th>3528</th>\n",
       "      <td>1.0</td>\n",
       "      <td>1.0</td>\n",
       "    </tr>\n",
       "    <tr>\n",
       "      <th>3529</th>\n",
       "      <td>1.0</td>\n",
       "      <td>1.0</td>\n",
       "    </tr>\n",
       "    <tr>\n",
       "      <th>3530</th>\n",
       "      <td>1.0</td>\n",
       "      <td>1.0</td>\n",
       "    </tr>\n",
       "    <tr>\n",
       "      <th>3531</th>\n",
       "      <td>1.0</td>\n",
       "      <td>1.0</td>\n",
       "    </tr>\n",
       "  </tbody>\n",
       "</table>\n",
       "<p>3532 rows × 2 columns</p>\n",
       "</div>"
      ],
      "text/plain": [
       "      y_pred   P1\n",
       "0        0.0  0.0\n",
       "1        1.0  1.0\n",
       "2        0.0  0.0\n",
       "3        0.0  0.0\n",
       "4        0.0  0.0\n",
       "...      ...  ...\n",
       "3527     1.0  1.0\n",
       "3528     1.0  1.0\n",
       "3529     1.0  1.0\n",
       "3530     1.0  1.0\n",
       "3531     1.0  1.0\n",
       "\n",
       "[3532 rows x 2 columns]"
      ]
     },
     "execution_count": 122,
     "metadata": {},
     "output_type": "execute_result"
    }
   ],
   "source": [
    "#Predict on the test data\n",
    "p1 = svc_model.predict(X_test_q)\n",
    "\n",
    "pd.DataFrame({'y_pred':svc_ypred,'P1':p1})"
   ]
  },
  {
   "cell_type": "code",
   "execution_count": 123,
   "metadata": {},
   "outputs": [
    {
     "name": "stdout",
     "output_type": "stream",
     "text": [
      "Train Accuracy - : 0.876\n",
      "Test Accuracy - : 0.873\n"
     ]
    }
   ],
   "source": [
    "print(f'Train Accuracy - : {svc_model.score(X_train_q,y_train_sm):.3f}')\n",
    "print(f'Test Accuracy - : {svc_model.score(X_test_q,y_test_sm):.3f}')"
   ]
  },
  {
   "cell_type": "markdown",
   "metadata": {},
   "source": [
    "### Adaboost Classifier"
   ]
  },
  {
   "cell_type": "code",
   "execution_count": 124,
   "metadata": {},
   "outputs": [
    {
     "data": {
      "text/plain": [
       "AdaBoostClassifier()"
      ]
     },
     "execution_count": 124,
     "metadata": {},
     "output_type": "execute_result"
    }
   ],
   "source": [
    "from sklearn.ensemble import AdaBoostClassifier\n",
    "clf = AdaBoostClassifier()\n",
    "clf.fit(X_train_q, y_train_sm)"
   ]
  },
  {
   "cell_type": "code",
   "execution_count": 125,
   "metadata": {},
   "outputs": [],
   "source": [
    "ada_pred = clf.predict(X_test_q)"
   ]
  },
  {
   "cell_type": "code",
   "execution_count": 126,
   "metadata": {},
   "outputs": [
    {
     "data": {
      "text/plain": [
       "0.8680634201585504"
      ]
     },
     "execution_count": 126,
     "metadata": {},
     "output_type": "execute_result"
    }
   ],
   "source": [
    "ada_acc_score = metrics.accuracy_score(y_test_sm, ada_pred)\n",
    "ada_acc_score"
   ]
  },
  {
   "cell_type": "code",
   "execution_count": 127,
   "metadata": {},
   "outputs": [
    {
     "name": "stdout",
     "output_type": "stream",
     "text": [
      "[[1521  245]\n",
      " [ 221 1545]]\n",
      "              precision    recall  f1-score   support\n",
      "\n",
      "         0.0       0.87      0.86      0.87      1766\n",
      "         1.0       0.86      0.87      0.87      1766\n",
      "\n",
      "    accuracy                           0.87      3532\n",
      "   macro avg       0.87      0.87      0.87      3532\n",
      "weighted avg       0.87      0.87      0.87      3532\n",
      "\n"
     ]
    }
   ],
   "source": [
    "print(confusion_matrix(y_test_sm, ada_pred))\n",
    "print(classification_report(y_test_sm, ada_pred))"
   ]
  },
  {
   "cell_type": "markdown",
   "metadata": {},
   "source": [
    "### Hyperparameter Tuning Adaboost Classifier"
   ]
  },
  {
   "cell_type": "code",
   "execution_count": 128,
   "metadata": {},
   "outputs": [],
   "source": [
    "# defining parameter range\n",
    "param_dist = {'n_estimators': [50, 100, 200],\n",
    "              'learning_rate': [0.01, 0.1, 1],\n",
    "              'algorithm': ['SAMME','SAMME.R']} "
   ]
  },
  {
   "cell_type": "code",
   "execution_count": 129,
   "metadata": {},
   "outputs": [
    {
     "data": {
      "text/plain": [
       "RandomizedSearchCV(cv=5, estimator=AdaBoostClassifier(),\n",
       "                   param_distributions={'algorithm': ['SAMME', 'SAMME.R'],\n",
       "                                        'learning_rate': [0.01, 0.1, 1],\n",
       "                                        'n_estimators': [50, 100, 200]})"
      ]
     },
     "execution_count": 129,
     "metadata": {},
     "output_type": "execute_result"
    }
   ],
   "source": [
    "random_search =  RandomizedSearchCV(clf, param_distributions = param_dist, cv = 5 )\n",
    "\n",
    "random_search.fit(X_train_q, y_train_sm)"
   ]
  },
  {
   "cell_type": "code",
   "execution_count": 130,
   "metadata": {},
   "outputs": [
    {
     "name": "stdout",
     "output_type": "stream",
     "text": [
      "Best parameters:\n",
      "{'n_estimators': 200, 'learning_rate': 1, 'algorithm': 'SAMME'}\n"
     ]
    }
   ],
   "source": [
    "print(\"Best parameters:\")\n",
    "print(random_search.best_params_)"
   ]
  },
  {
   "cell_type": "code",
   "execution_count": 131,
   "metadata": {},
   "outputs": [],
   "source": [
    "ada_model = AdaBoostClassifier(**random_search.best_params_)\n",
    "ada_model.fit(X_train_q, y_train_sm)\n",
    "ada_ypred = ada_model.predict(X_test_q)"
   ]
  },
  {
   "cell_type": "code",
   "execution_count": 132,
   "metadata": {},
   "outputs": [
    {
     "data": {
      "text/plain": [
       "0.8669309173272933"
      ]
     },
     "execution_count": 132,
     "metadata": {},
     "output_type": "execute_result"
    }
   ],
   "source": [
    "ada_model_acc_score = metrics.accuracy_score(y_test_sm, ada_ypred)\n",
    "ada_model_acc_score"
   ]
  },
  {
   "cell_type": "code",
   "execution_count": 133,
   "metadata": {},
   "outputs": [
    {
     "data": {
      "text/plain": [
       "<sklearn.metrics._plot.confusion_matrix.ConfusionMatrixDisplay at 0x1dda5f463d0>"
      ]
     },
     "execution_count": 133,
     "metadata": {},
     "output_type": "execute_result"
    },
    {
     "data": {
      "image/png": "[encoded data removed]",
      "text/plain": [
       "<Figure size 432x288 with 2 Axes>"
      ]
     },
     "metadata": {
      "needs_background": "light"
     },
     "output_type": "display_data"
    }
   ],
   "source": [
    "plot_confusion_matrix(ada_model, X_test_q,y_test_sm)"
   ]
  },
  {
   "cell_type": "code",
   "execution_count": 134,
   "metadata": {},
   "outputs": [
    {
     "data": {
      "text/plain": [
       "<sklearn.metrics._plot.roc_curve.RocCurveDisplay at 0x1dda69e4be0>"
      ]
     },
     "execution_count": 134,
     "metadata": {},
     "output_type": "execute_result"
    },
    {
     "data": {
      "image/png": "[encoded data removed]",
      "text/plain": [
       "<Figure size 432x288 with 1 Axes>"
      ]
     },
     "metadata": {
      "needs_background": "light"
     },
     "output_type": "display_data"
    }
   ],
   "source": [
    "plot_roc_curve(ada_model, X_test_q,y_test_sm)"
   ]
  },
  {
   "cell_type": "code",
   "execution_count": 135,
   "metadata": {},
   "outputs": [],
   "source": [
    "def get_cv_score(ada_model, X, y, cv=5):\n",
    "    \n",
    "    \n",
    "    cv_accuracy = cross_val_score(ada_model,X,y,cv=cv,\n",
    "                         scoring='accuracy')\n",
    "    print(f'Cross Validaion accuracy Scores: {cv_accuracy}')\n",
    "    print(f'Cross Validation accuracy Mean Score: {cv_accuracy.mean()}')\n",
    "    \n",
    "    cv_precision = cross_val_score(ada_model,X,y,cv=cv,\n",
    "                         scoring='precision')\n",
    "    print(f'Cross Validaion precision Scores: {cv_precision}')\n",
    "    print(f'Cross Validation precision Mean Score: {cv_precision.mean()}')\n",
    "    \n",
    "    cv_recall = cross_val_score(ada_model,X,y,cv=cv,\n",
    "                         scoring='recall')\n",
    "    print(f'Cross Validaion recall Scores: {cv_recall}')\n",
    "    print(f'Cross Validation recall Mean Score: {cv_recall.mean()}')\n",
    "    \n",
    "    cv_f1 = cross_val_score(ada_model,X,y,cv=cv,\n",
    "                         scoring='f1')\n",
    "    print(f'Cross Validaion f1 Scores: {cv_f1}')\n",
    "    print(f'Cross Validation f1 Mean Score: {cv_f1.mean()}')   \n",
    "    \n",
    "    cv_merics = pd.DataFrame({'Accuracy': cv_accuracy.mean(),\n",
    "                         'Precision': cv_precision.mean(),\n",
    "                         'Recall': cv_recall.mean(),\n",
    "                         'f1': cv_recall.mean()},index=[0])\n",
    "    \n",
    "    return cv_merics"
   ]
  },
  {
   "cell_type": "code",
   "execution_count": 136,
   "metadata": {},
   "outputs": [
    {
     "name": "stdout",
     "output_type": "stream",
     "text": [
      "Cross Validaion accuracy Scores: [0.8238806  0.8041791  0.90860215 0.92054958 0.90681004]\n",
      "Cross Validation accuracy Mean Score: 0.872804293942474\n",
      "Cross Validaion precision Scores: [0.86424731 0.84090909 0.88863636 0.88095238 0.86731392]\n",
      "Cross Validation precision Mean Score: 0.8684118126366795\n",
      "Cross Validaion recall Scores: [0.76821983 0.75059666 0.93428913 0.97252091 0.96057348]\n",
      "Cross Validation recall Mean Score: 0.8772400007983963\n",
      "Cross Validaion f1 Scores: [0.81340923 0.79319042 0.91089109 0.92447473 0.91156463]\n",
      "Cross Validation f1 Mean Score: 0.8707060192057974\n"
     ]
    }
   ],
   "source": [
    "cv_merics_ada = get_cv_score(ada_model, X_train_q, y_train_sm, cv=5)"
   ]
  },
  {
   "cell_type": "code",
   "execution_count": 137,
   "metadata": {},
   "outputs": [
    {
     "data": {
      "text/html": [
       "<div>\n",
       "<style scoped>\n",
       "    .dataframe tbody tr th:only-of-type {\n",
       "        vertical-align: middle;\n",
       "    }\n",
       "\n",
       "    .dataframe tbody tr th {\n",
       "        vertical-align: top;\n",
       "    }\n",
       "\n",
       "    .dataframe thead th {\n",
       "        text-align: right;\n",
       "    }\n",
       "</style>\n",
       "<table border=\"1\" class=\"dataframe\">\n",
       "  <thead>\n",
       "    <tr style=\"text-align: right;\">\n",
       "      <th></th>\n",
       "      <th>Accuracy</th>\n",
       "      <th>Precision</th>\n",
       "      <th>Recall</th>\n",
       "      <th>f1</th>\n",
       "    </tr>\n",
       "  </thead>\n",
       "  <tbody>\n",
       "    <tr>\n",
       "      <th>0</th>\n",
       "      <td>0.872804</td>\n",
       "      <td>0.868412</td>\n",
       "      <td>0.87724</td>\n",
       "      <td>0.87724</td>\n",
       "    </tr>\n",
       "  </tbody>\n",
       "</table>\n",
       "</div>"
      ],
      "text/plain": [
       "   Accuracy  Precision   Recall       f1\n",
       "0  0.872804   0.868412  0.87724  0.87724"
      ]
     },
     "execution_count": 137,
     "metadata": {},
     "output_type": "execute_result"
    }
   ],
   "source": [
    "cv_merics_ada"
   ]
  },
  {
   "cell_type": "code",
   "execution_count": 138,
   "metadata": {},
   "outputs": [
    {
     "data": {
      "text/html": [
       "<div>\n",
       "<style scoped>\n",
       "    .dataframe tbody tr th:only-of-type {\n",
       "        vertical-align: middle;\n",
       "    }\n",
       "\n",
       "    .dataframe tbody tr th {\n",
       "        vertical-align: top;\n",
       "    }\n",
       "\n",
       "    .dataframe thead th {\n",
       "        text-align: right;\n",
       "    }\n",
       "</style>\n",
       "<table border=\"1\" class=\"dataframe\">\n",
       "  <thead>\n",
       "    <tr style=\"text-align: right;\">\n",
       "      <th></th>\n",
       "      <th>y_pred</th>\n",
       "      <th>P1</th>\n",
       "    </tr>\n",
       "  </thead>\n",
       "  <tbody>\n",
       "    <tr>\n",
       "      <th>0</th>\n",
       "      <td>0.0</td>\n",
       "      <td>0.0</td>\n",
       "    </tr>\n",
       "    <tr>\n",
       "      <th>1</th>\n",
       "      <td>1.0</td>\n",
       "      <td>1.0</td>\n",
       "    </tr>\n",
       "    <tr>\n",
       "      <th>2</th>\n",
       "      <td>0.0</td>\n",
       "      <td>0.0</td>\n",
       "    </tr>\n",
       "    <tr>\n",
       "      <th>3</th>\n",
       "      <td>0.0</td>\n",
       "      <td>0.0</td>\n",
       "    </tr>\n",
       "    <tr>\n",
       "      <th>4</th>\n",
       "      <td>0.0</td>\n",
       "      <td>0.0</td>\n",
       "    </tr>\n",
       "    <tr>\n",
       "      <th>...</th>\n",
       "      <td>...</td>\n",
       "      <td>...</td>\n",
       "    </tr>\n",
       "    <tr>\n",
       "      <th>3527</th>\n",
       "      <td>1.0</td>\n",
       "      <td>1.0</td>\n",
       "    </tr>\n",
       "    <tr>\n",
       "      <th>3528</th>\n",
       "      <td>1.0</td>\n",
       "      <td>1.0</td>\n",
       "    </tr>\n",
       "    <tr>\n",
       "      <th>3529</th>\n",
       "      <td>1.0</td>\n",
       "      <td>1.0</td>\n",
       "    </tr>\n",
       "    <tr>\n",
       "      <th>3530</th>\n",
       "      <td>1.0</td>\n",
       "      <td>1.0</td>\n",
       "    </tr>\n",
       "    <tr>\n",
       "      <th>3531</th>\n",
       "      <td>1.0</td>\n",
       "      <td>1.0</td>\n",
       "    </tr>\n",
       "  </tbody>\n",
       "</table>\n",
       "<p>3532 rows × 2 columns</p>\n",
       "</div>"
      ],
      "text/plain": [
       "      y_pred   P1\n",
       "0        0.0  0.0\n",
       "1        1.0  1.0\n",
       "2        0.0  0.0\n",
       "3        0.0  0.0\n",
       "4        0.0  0.0\n",
       "...      ...  ...\n",
       "3527     1.0  1.0\n",
       "3528     1.0  1.0\n",
       "3529     1.0  1.0\n",
       "3530     1.0  1.0\n",
       "3531     1.0  1.0\n",
       "\n",
       "[3532 rows x 2 columns]"
      ]
     },
     "execution_count": 138,
     "metadata": {},
     "output_type": "execute_result"
    }
   ],
   "source": [
    "#Predict on the test data\n",
    "p1 = ada_model.predict(X_test_q)\n",
    "pd.DataFrame({'y_pred':ada_ypred,'P1':p1})"
   ]
  },
  {
   "cell_type": "code",
   "execution_count": 139,
   "metadata": {},
   "outputs": [
    {
     "name": "stdout",
     "output_type": "stream",
     "text": [
      "Train Accuracy - : 0.879\n",
      "Test Accuracy - : 0.867\n"
     ]
    }
   ],
   "source": [
    "print(f'Train Accuracy - : {ada_model.score(X_train_q,y_train_sm):.3f}')\n",
    "print(f'Test Accuracy - : {ada_model.score(X_test_q,y_test_sm):.3f}')"
   ]
  },
  {
   "cell_type": "markdown",
   "metadata": {},
   "source": [
    "###  XG Boost Classifier"
   ]
  },
  {
   "cell_type": "code",
   "execution_count": 140,
   "metadata": {},
   "outputs": [
    {
     "data": {
      "text/plain": [
       "XGBClassifier(base_score=0.5, booster='gbtree', colsample_bylevel=1,\n",
       "              colsample_bynode=1, colsample_bytree=1, eval_metric=['logloss'],\n",
       "              gamma=0, gpu_id=-1, importance_type='gain',\n",
       "              interaction_constraints='', learning_rate=0.300000012,\n",
       "              max_delta_step=0, max_depth=6, min_child_weight=1, missing=nan,\n",
       "              monotone_constraints='()', n_estimators=100, n_jobs=8,\n",
       "              num_parallel_tree=1, random_state=0, reg_alpha=0, reg_lambda=1,\n",
       "              scale_pos_weight=1, subsample=1, tree_method='exact',\n",
       "              validate_parameters=1, verbosity=None)"
      ]
     },
     "execution_count": 140,
     "metadata": {},
     "output_type": "execute_result"
    }
   ],
   "source": [
    "from xgboost import XGBClassifier\n",
    "xgb = XGBClassifier(objective='binary:logistic',eval_metric=['logloss']) \n",
    "xgb.fit(X_train_q, y_train_sm)"
   ]
  },
  {
   "cell_type": "code",
   "execution_count": 141,
   "metadata": {},
   "outputs": [],
   "source": [
    "xgb_pred = xgb.predict(X_test_q)"
   ]
  },
  {
   "cell_type": "code",
   "execution_count": 142,
   "metadata": {},
   "outputs": [
    {
     "data": {
      "text/plain": [
       "0.8748584371460929"
      ]
     },
     "execution_count": 142,
     "metadata": {},
     "output_type": "execute_result"
    }
   ],
   "source": [
    "xgb_acc_score = metrics.accuracy_score(y_test_sm, xgb_pred)\n",
    "xgb_acc_score"
   ]
  },
  {
   "cell_type": "code",
   "execution_count": 143,
   "metadata": {},
   "outputs": [
    {
     "name": "stdout",
     "output_type": "stream",
     "text": [
      "[[1552  214]\n",
      " [ 228 1538]]\n",
      "              precision    recall  f1-score   support\n",
      "\n",
      "         0.0       0.87      0.88      0.88      1766\n",
      "         1.0       0.88      0.87      0.87      1766\n",
      "\n",
      "    accuracy                           0.87      3532\n",
      "   macro avg       0.87      0.87      0.87      3532\n",
      "weighted avg       0.87      0.87      0.87      3532\n",
      "\n"
     ]
    }
   ],
   "source": [
    "print(confusion_matrix(y_test_sm, xgb_pred))\n",
    "print(classification_report(y_test_sm, xgb_pred))"
   ]
  },
  {
   "cell_type": "code",
   "execution_count": 144,
   "metadata": {},
   "outputs": [],
   "source": [
    "# defining parameter range\n",
    "param_dist = {'n_estimators': [50, 100, 300],\n",
    "              'learning_rate': [0.01, 0.1, 1],\n",
    "              'eval_metric': ['logloss','error'],\n",
    "              'max_depth': [4, 6]} "
   ]
  },
  {
   "cell_type": "code",
   "execution_count": 145,
   "metadata": {},
   "outputs": [
    {
     "data": {
      "text/plain": [
       "RandomizedSearchCV(cv=5,\n",
       "                   estimator=XGBClassifier(base_score=0.5, booster='gbtree',\n",
       "                                           colsample_bylevel=1,\n",
       "                                           colsample_bynode=1,\n",
       "                                           colsample_bytree=1,\n",
       "                                           eval_metric=['logloss'], gamma=0,\n",
       "                                           gpu_id=-1, importance_type='gain',\n",
       "                                           interaction_constraints='',\n",
       "                                           learning_rate=0.300000012,\n",
       "                                           max_delta_step=0, max_depth=6,\n",
       "                                           min_child_weight=1, missing=nan,\n",
       "                                           monotone_constraints='()',\n",
       "                                           n_estimators=100, n_jobs=8,\n",
       "                                           num_parallel_tree=1, random_state=0,\n",
       "                                           reg_alpha=0, reg_lambda=1,\n",
       "                                           scale_pos_weight=1, subsample=1,\n",
       "                                           tree_method='exact',\n",
       "                                           validate_parameters=1,\n",
       "                                           verbosity=None),\n",
       "                   param_distributions={'eval_metric': ['logloss', 'error'],\n",
       "                                        'learning_rate': [0.01, 0.1, 1],\n",
       "                                        'max_depth': [4, 6],\n",
       "                                        'n_estimators': [50, 100, 300]})"
      ]
     },
     "execution_count": 145,
     "metadata": {},
     "output_type": "execute_result"
    }
   ],
   "source": [
    "random_search =  RandomizedSearchCV(xgb, param_distributions = param_dist, cv = 5 )\n",
    "\n",
    "random_search.fit(X_train_q, y_train_sm)"
   ]
  },
  {
   "cell_type": "code",
   "execution_count": 146,
   "metadata": {},
   "outputs": [
    {
     "name": "stdout",
     "output_type": "stream",
     "text": [
      "Best parameters:\n",
      "{'n_estimators': 50, 'max_depth': 4, 'learning_rate': 0.1, 'eval_metric': 'logloss'}\n"
     ]
    }
   ],
   "source": [
    "print(\"Best parameters:\")\n",
    "print(random_search.best_params_)"
   ]
  },
  {
   "cell_type": "code",
   "execution_count": 147,
   "metadata": {},
   "outputs": [],
   "source": [
    "xgb_model = XGBClassifier(**random_search.best_params_)\n",
    "xgb_model.fit(X_train_q, y_train_sm)\n",
    "xgb_ypred = xgb_model.predict(X_test_q)"
   ]
  },
  {
   "cell_type": "code",
   "execution_count": 148,
   "metadata": {},
   "outputs": [
    {
     "data": {
      "text/plain": [
       "0.8694790486976217"
      ]
     },
     "execution_count": 148,
     "metadata": {},
     "output_type": "execute_result"
    }
   ],
   "source": [
    "xgb_model_acc_score = metrics.accuracy_score(y_test_sm, xgb_ypred)\n",
    "xgb_model_acc_score"
   ]
  },
  {
   "cell_type": "code",
   "execution_count": 149,
   "metadata": {},
   "outputs": [
    {
     "data": {
      "text/plain": [
       "<sklearn.metrics._plot.confusion_matrix.ConfusionMatrixDisplay at 0x1dda82b5f70>"
      ]
     },
     "execution_count": 149,
     "metadata": {},
     "output_type": "execute_result"
    },
    {
     "data": {
      "image/png": "[encoded data removed]",
      "text/plain": [
       "<Figure size 432x288 with 2 Axes>"
      ]
     },
     "metadata": {
      "needs_background": "light"
     },
     "output_type": "display_data"
    }
   ],
   "source": [
    "plot_confusion_matrix(xgb_model, X_test_q,y_test_sm)"
   ]
  },
  {
   "cell_type": "code",
   "execution_count": 150,
   "metadata": {},
   "outputs": [
    {
     "data": {
      "text/plain": [
       "<sklearn.metrics._plot.roc_curve.RocCurveDisplay at 0x1dda82fac40>"
      ]
     },
     "execution_count": 150,
     "metadata": {},
     "output_type": "execute_result"
    },
    {
     "data": {
      "image/png": "[encoded data removed]",
      "text/plain": [
       "<Figure size 432x288 with 1 Axes>"
      ]
     },
     "metadata": {
      "needs_background": "light"
     },
     "output_type": "display_data"
    }
   ],
   "source": [
    "plot_roc_curve(xgb_model, X_test_q,y_test_sm)"
   ]
  },
  {
   "cell_type": "code",
   "execution_count": 151,
   "metadata": {},
   "outputs": [],
   "source": [
    "def get_cv_score(xgb_model, X, y, cv=5):\n",
    "    \n",
    "    \n",
    "    cv_accuracy = cross_val_score(xgb_model,X,y,cv=cv,\n",
    "                         scoring='accuracy')\n",
    "    print(f'Cross Validaion accuracy Scores: {cv_accuracy}')\n",
    "    print(f'Cross Validation accuracy Mean Score: {cv_accuracy.mean()}')\n",
    "    \n",
    "    cv_precision = cross_val_score(xgb_model,X,y,cv=cv,\n",
    "                         scoring='precision')\n",
    "    print(f'Cross Validaion precision Scores: {cv_precision}')\n",
    "    print(f'Cross Validation precision Mean Score: {cv_precision.mean()}')\n",
    "    \n",
    "    cv_recall = cross_val_score(xgb_model,X,y,cv=cv,\n",
    "                         scoring='recall')\n",
    "    print(f'Cross Validaion recall Scores: {cv_recall}')\n",
    "    print(f'Cross Validation recall Mean Score: {cv_recall.mean()}')\n",
    "    \n",
    "    cv_f1 = cross_val_score(xgb_model,X,y,cv=cv,\n",
    "                         scoring='f1')\n",
    "    print(f'Cross Validaion f1 Scores: {cv_f1}')\n",
    "    print(f'Cross Validation f1 Mean Score: {cv_f1.mean()}')   \n",
    "    \n",
    "    cv_merics = pd.DataFrame({'Accuracy': cv_accuracy.mean(),\n",
    "                         'Precision': cv_precision.mean(),\n",
    "                         'Recall': cv_recall.mean(),\n",
    "                         'f1': cv_recall.mean()},index=[0])\n",
    "    \n",
    "    return cv_merics"
   ]
  },
  {
   "cell_type": "code",
   "execution_count": 152,
   "metadata": {},
   "outputs": [
    {
     "name": "stdout",
     "output_type": "stream",
     "text": [
      "Cross Validaion accuracy Scores: [0.82865672 0.82985075 0.90561529 0.92353644 0.90621266]\n",
      "Cross Validation accuracy Mean Score: 0.8787743718682574\n",
      "Cross Validaion precision Scores: [0.85529716 0.84519351 0.88711517 0.88407367 0.8640257 ]\n",
      "Cross Validation precision Mean Score: 0.8671410399623027\n",
      "Cross Validaion recall Scores: [0.79091995 0.80787589 0.92951016 0.97491039 0.96415771]\n",
      "Cross Validation recall Mean Score: 0.8934748205746743\n",
      "Cross Validaion f1 Scores: [0.82184978 0.82611348 0.90781797 0.92727273 0.91134952]\n",
      "Cross Validation f1 Mean Score: 0.8788806967109505\n"
     ]
    }
   ],
   "source": [
    "cv_merics_xgb = get_cv_score(xgb_model, X_train_q, y_train_sm, cv=5)"
   ]
  },
  {
   "cell_type": "code",
   "execution_count": 153,
   "metadata": {},
   "outputs": [
    {
     "data": {
      "text/html": [
       "<div>\n",
       "<style scoped>\n",
       "    .dataframe tbody tr th:only-of-type {\n",
       "        vertical-align: middle;\n",
       "    }\n",
       "\n",
       "    .dataframe tbody tr th {\n",
       "        vertical-align: top;\n",
       "    }\n",
       "\n",
       "    .dataframe thead th {\n",
       "        text-align: right;\n",
       "    }\n",
       "</style>\n",
       "<table border=\"1\" class=\"dataframe\">\n",
       "  <thead>\n",
       "    <tr style=\"text-align: right;\">\n",
       "      <th></th>\n",
       "      <th>Accuracy</th>\n",
       "      <th>Precision</th>\n",
       "      <th>Recall</th>\n",
       "      <th>f1</th>\n",
       "    </tr>\n",
       "  </thead>\n",
       "  <tbody>\n",
       "    <tr>\n",
       "      <th>0</th>\n",
       "      <td>0.878774</td>\n",
       "      <td>0.867141</td>\n",
       "      <td>0.893475</td>\n",
       "      <td>0.893475</td>\n",
       "    </tr>\n",
       "  </tbody>\n",
       "</table>\n",
       "</div>"
      ],
      "text/plain": [
       "   Accuracy  Precision    Recall        f1\n",
       "0  0.878774   0.867141  0.893475  0.893475"
      ]
     },
     "execution_count": 153,
     "metadata": {},
     "output_type": "execute_result"
    }
   ],
   "source": [
    "cv_merics_xgb"
   ]
  },
  {
   "cell_type": "code",
   "execution_count": 154,
   "metadata": {},
   "outputs": [
    {
     "data": {
      "text/html": [
       "<div>\n",
       "<style scoped>\n",
       "    .dataframe tbody tr th:only-of-type {\n",
       "        vertical-align: middle;\n",
       "    }\n",
       "\n",
       "    .dataframe tbody tr th {\n",
       "        vertical-align: top;\n",
       "    }\n",
       "\n",
       "    .dataframe thead th {\n",
       "        text-align: right;\n",
       "    }\n",
       "</style>\n",
       "<table border=\"1\" class=\"dataframe\">\n",
       "  <thead>\n",
       "    <tr style=\"text-align: right;\">\n",
       "      <th></th>\n",
       "      <th>y_pred</th>\n",
       "      <th>P1</th>\n",
       "    </tr>\n",
       "  </thead>\n",
       "  <tbody>\n",
       "    <tr>\n",
       "      <th>0</th>\n",
       "      <td>0.0</td>\n",
       "      <td>0.0</td>\n",
       "    </tr>\n",
       "    <tr>\n",
       "      <th>1</th>\n",
       "      <td>1.0</td>\n",
       "      <td>1.0</td>\n",
       "    </tr>\n",
       "    <tr>\n",
       "      <th>2</th>\n",
       "      <td>0.0</td>\n",
       "      <td>0.0</td>\n",
       "    </tr>\n",
       "    <tr>\n",
       "      <th>3</th>\n",
       "      <td>0.0</td>\n",
       "      <td>0.0</td>\n",
       "    </tr>\n",
       "    <tr>\n",
       "      <th>4</th>\n",
       "      <td>0.0</td>\n",
       "      <td>0.0</td>\n",
       "    </tr>\n",
       "    <tr>\n",
       "      <th>...</th>\n",
       "      <td>...</td>\n",
       "      <td>...</td>\n",
       "    </tr>\n",
       "    <tr>\n",
       "      <th>3527</th>\n",
       "      <td>1.0</td>\n",
       "      <td>1.0</td>\n",
       "    </tr>\n",
       "    <tr>\n",
       "      <th>3528</th>\n",
       "      <td>1.0</td>\n",
       "      <td>1.0</td>\n",
       "    </tr>\n",
       "    <tr>\n",
       "      <th>3529</th>\n",
       "      <td>1.0</td>\n",
       "      <td>1.0</td>\n",
       "    </tr>\n",
       "    <tr>\n",
       "      <th>3530</th>\n",
       "      <td>1.0</td>\n",
       "      <td>1.0</td>\n",
       "    </tr>\n",
       "    <tr>\n",
       "      <th>3531</th>\n",
       "      <td>1.0</td>\n",
       "      <td>1.0</td>\n",
       "    </tr>\n",
       "  </tbody>\n",
       "</table>\n",
       "<p>3532 rows × 2 columns</p>\n",
       "</div>"
      ],
      "text/plain": [
       "      y_pred   P1\n",
       "0        0.0  0.0\n",
       "1        1.0  1.0\n",
       "2        0.0  0.0\n",
       "3        0.0  0.0\n",
       "4        0.0  0.0\n",
       "...      ...  ...\n",
       "3527     1.0  1.0\n",
       "3528     1.0  1.0\n",
       "3529     1.0  1.0\n",
       "3530     1.0  1.0\n",
       "3531     1.0  1.0\n",
       "\n",
       "[3532 rows x 2 columns]"
      ]
     },
     "execution_count": 154,
     "metadata": {},
     "output_type": "execute_result"
    }
   ],
   "source": [
    "#Predict on the test data\n",
    "p1 = xgb_model.predict(X_test_q)\n",
    "\n",
    "pd.DataFrame({'y_pred':xgb_ypred,'P1':p1})"
   ]
  },
  {
   "cell_type": "code",
   "execution_count": 155,
   "metadata": {},
   "outputs": [
    {
     "name": "stdout",
     "output_type": "stream",
     "text": [
      "Train Accuracy : 0.885\n",
      "Test Accuracy : 0.869\n"
     ]
    }
   ],
   "source": [
    "print(f'Train Accuracy : {xgb_model.score(X_train_q,y_train_sm):.3f}')\n",
    "print(f'Test Accuracy : {xgb_model.score(X_test_q,y_test_sm):.3f}')"
   ]
  },
  {
   "cell_type": "markdown",
   "metadata": {},
   "source": [
    "### Evaluation"
   ]
  },
  {
   "cell_type": "code",
   "execution_count": 156,
   "metadata": {},
   "outputs": [],
   "source": [
    "from sklearn import metrics"
   ]
  },
  {
   "cell_type": "code",
   "execution_count": 157,
   "metadata": {},
   "outputs": [
    {
     "data": {
      "text/html": [
       "<div>\n",
       "<style scoped>\n",
       "    .dataframe tbody tr th:only-of-type {\n",
       "        vertical-align: middle;\n",
       "    }\n",
       "\n",
       "    .dataframe tbody tr th {\n",
       "        vertical-align: top;\n",
       "    }\n",
       "\n",
       "    .dataframe thead th {\n",
       "        text-align: right;\n",
       "    }\n",
       "</style>\n",
       "<table border=\"1\" class=\"dataframe\">\n",
       "  <thead>\n",
       "    <tr style=\"text-align: right;\">\n",
       "      <th></th>\n",
       "      <th>Model</th>\n",
       "      <th>Accuracy</th>\n",
       "    </tr>\n",
       "  </thead>\n",
       "  <tbody>\n",
       "    <tr>\n",
       "      <th>0</th>\n",
       "      <td>Logistic Regression</td>\n",
       "      <td>0.874858</td>\n",
       "    </tr>\n",
       "    <tr>\n",
       "      <th>1</th>\n",
       "      <td>Decision Tree</td>\n",
       "      <td>0.822197</td>\n",
       "    </tr>\n",
       "    <tr>\n",
       "      <th>2</th>\n",
       "      <td>Random Forest</td>\n",
       "      <td>0.863533</td>\n",
       "    </tr>\n",
       "    <tr>\n",
       "      <th>3</th>\n",
       "      <td>SVM</td>\n",
       "      <td>0.872593</td>\n",
       "    </tr>\n",
       "    <tr>\n",
       "      <th>4</th>\n",
       "      <td>Adaboost Classifier</td>\n",
       "      <td>0.866931</td>\n",
       "    </tr>\n",
       "    <tr>\n",
       "      <th>5</th>\n",
       "      <td>XGBoost Classifier</td>\n",
       "      <td>0.869479</td>\n",
       "    </tr>\n",
       "  </tbody>\n",
       "</table>\n",
       "</div>"
      ],
      "text/plain": [
       "                 Model  Accuracy\n",
       "0  Logistic Regression  0.874858\n",
       "1        Decision Tree  0.822197\n",
       "2        Random Forest  0.863533\n",
       "3                  SVM  0.872593\n",
       "4  Adaboost Classifier  0.866931\n",
       "5   XGBoost Classifier  0.869479"
      ]
     },
     "execution_count": 157,
     "metadata": {},
     "output_type": "execute_result"
    }
   ],
   "source": [
    "model_ev = pd.DataFrame({'Model': ['Logistic Regression','Decision Tree',\n",
    "                         'Random Forest','SVM','Adaboost Classifier','XGBoost Classifier'],\n",
    "                         'Accuracy': [lr_acc_score, dt_model_acc_score, rf_model_acc_score, svc_model_acc_score, ada_model_acc_score,\n",
    "                                              xgb_model_acc_score]}) \n",
    "model_ev"
   ]
  },
  {
   "cell_type": "markdown",
   "metadata": {},
   "source": [
    "### Conclusion:\n",
    "#### Logistic Regression gives highest accuracy among all models i.e. 87.4%"
   ]
  }
 ],
 "metadata": {
  "kernelspec": {
   "display_name": "Python 3",
   "language": "python",
   "name": "python3"
  },
  "language_info": {
   "codemirror_mode": {
    "name": "ipython",
    "version": 3
   },
   "file_extension": ".py",
   "mimetype": "text/x-python",
   "name": "python",
   "nbconvert_exporter": "python",
   "pygments_lexer": "ipython3",
   "version": "3.8.5"
  }
 },
 "nbformat": 4,
 "nbformat_minor": 4
}
